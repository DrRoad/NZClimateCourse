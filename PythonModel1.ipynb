{
 "cells": [
  {
   "cell_type": "markdown",
   "metadata": {},
   "source": [
    "Quoting from the Coursera materials:\n",
    "\n",
    ">The background for this material can be found in Sections 2 and 3 of Part I of this class. Short version: Joules are units of energy; Watts are energy flow (J/s). The temperature of a planet is determined by balancing energy fluxes into and out of a planet. Incoming solar heat is determined by L * (1-albedo) / 4, and outgoing infrared is calculated as epsilon * sigma * T^4.\n",
    "\n",
    ">The goal is to numerically simulate how the planetary temperature of a naked planet would change through time as it approaches equilibrium (the state at which it stops changing, which we calculated before). The planet starts with some initial temperature. The “heat capacity” (units of Joules / m2 K) of the planet is set by a layer of water which absorbs heat and changes its temperature. If the layer is very thick, it takes a lot more heat (Joules) to change the temperature. The differential equation you are going to solve is\n",
    "\n",
    "```\n",
    "dHeatContent/dt = L*(1-alpha)/4 - epsilon * sigma * T^4\n",
    "T[K] = HeatContent [J/m2] / HeatCapacity [J/m2 K]\n",
    "HeatContent(t+1) = HeatContent(t) + dHeatContent/dT * TimeStep\n",
    "\n",
    "timeStep = 100           # years\n",
    "waterDepth = 4000        # meters\n",
    "L = 1350                 # Watts/m2\n",
    "albedo = 0.3\n",
    "epsilon = 1\n",
    "sigma = 5.67E-8          # W/m2 K4\n",
    "\n",
    "```\n",
    "\n",
    "I kind of like the spreadsheet version of this, to be honest, but here goes."
   ]
  },
  {
   "cell_type": "code",
   "execution_count": 1,
   "metadata": {},
   "outputs": [],
   "source": [
    "from matplotlib import pyplot as plt\n",
    "import seaborn as sns # makes plots look pretty\n",
    "from ipywidgets import interact, fixed"
   ]
  },
  {
   "cell_type": "code",
   "execution_count": 3,
   "metadata": {},
   "outputs": [
    {
     "name": "stdout",
     "output_type": "stream",
     "text": [
      "1 2 1\n",
      "5 10 25\n",
      "2 4 4\n",
      "7 14 49\n",
      "12 24 144\n"
     ]
    }
   ],
   "source": [
    "for i in (1,5,2,7,12):\n",
    "    print(i,i*2,i**2)"
   ]
  },
  {
   "cell_type": "code",
   "execution_count": 4,
   "metadata": {},
   "outputs": [
    {
     "data": {
      "text/plain": [
       "range(0, 10)"
      ]
     },
     "execution_count": 4,
     "metadata": {},
     "output_type": "execute_result"
    }
   ],
   "source": [
    "range(10)"
   ]
  },
  {
   "cell_type": "code",
   "execution_count": 5,
   "metadata": {},
   "outputs": [
    {
     "data": {
      "text/plain": [
       "[0, 1, 2, 3, 4, 5, 6, 7, 8, 9]"
      ]
     },
     "execution_count": 5,
     "metadata": {},
     "output_type": "execute_result"
    }
   ],
   "source": [
    "list(range(10))"
   ]
  },
  {
   "cell_type": "code",
   "execution_count": 6,
   "metadata": {},
   "outputs": [
    {
     "name": "stdout",
     "output_type": "stream",
     "text": [
      "0\n",
      "1\n",
      "2\n",
      "3\n",
      "4\n",
      "5\n",
      "6\n",
      "7\n",
      "8\n",
      "9\n"
     ]
    }
   ],
   "source": [
    "for i in range(10):\n",
    "    print(i)"
   ]
  },
  {
   "cell_type": "code",
   "execution_count": 11,
   "metadata": {},
   "outputs": [
    {
     "name": "stdout",
     "output_type": "stream",
     "text": [
      "254.06637327521028 236.2499970165995\n"
     ]
    },
    {
     "data": {
      "text/plain": [
       "[<matplotlib.lines.Line2D at 0x11611dbe0>]"
      ]
     },
     "execution_count": 11,
     "metadata": {},
     "output_type": "execute_result"
    },
    {
     "data": {
      "image/png": "[encoded data removed]",
      "text/plain": [
       "<Figure size 432x288 with 1 Axes>"
      ]
     },
     "metadata": {
      "needs_background": "light"
     },
     "output_type": "display_data"
    }
   ],
   "source": [
    "timestep = 100.0 # years\n",
    "water_depth = 4000.0 # m\n",
    "L = 1350.0 # W/m^2\n",
    "albedo = 0.3\n",
    "epsilon = 1\n",
    "sigma = 5.67e-8 # W/m^2 K^4\n",
    "\n",
    "kg_per_m2 = 1*water_depth*1000\n",
    "cal_for_1K = 1000*kg_per_m2\n",
    "Joules_for_1K = 4.184 * cal_for_1K\n",
    "\n",
    "heat_capacity = Joules_for_1K # J/m^2 K\n",
    "\n",
    "time, T, heat_content, heat_in, heat_out, heat_flux = [], [], [], [], [], []\n",
    "time.append(0)\n",
    "T.append(0)\n",
    "heat_content.append(T[-1]*heat_capacity)\n",
    "heat_in.append(L*(1-albedo)/4)\n",
    "heat_out.append(epsilon*sigma*T[-1]**4)\n",
    "heat_flux.append((heat_in[-1]-heat_out[-1])*60*60*24*365)\n",
    "\n",
    "nSteps = 100\n",
    "for i in range(nSteps):\n",
    "    time.append(time[-1] + timestep)\n",
    "\n",
    "    heat_content.append(heat_content[-1] + heat_flux[-1]*timestep)\n",
    "    T.append(heat_content[-1]/heat_capacity)\n",
    "\n",
    "    heat_in.append(L*(1-albedo)/4)\n",
    "    heat_flux.append((heat_in[-1]-heat_out[-1])*60*60*24*365)\n",
    "    heat_out.append(epsilon*sigma*T[-1]**4)\n",
    "print(T[-1],heat_out[-1])\n",
    "plt.plot(time,T,'.-')"
   ]
  }
 ],
 "metadata": {
  "kernelspec": {
   "display_name": "Python 3",
   "language": "python",
   "name": "python3"
  },
  "language_info": {
   "codemirror_mode": {
    "name": "ipython",
    "version": 3
   },
   "file_extension": ".py",
   "mimetype": "text/x-python",
   "name": "python",
   "nbconvert_exporter": "python",
   "pygments_lexer": "ipython3",
   "version": "3.6.6"
  }
 },
 "nbformat": 4,
 "nbformat_minor": 2
}
