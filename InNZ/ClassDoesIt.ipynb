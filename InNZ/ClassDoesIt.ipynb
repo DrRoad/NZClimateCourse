{
 "cells": [
  {
   "cell_type": "code",
   "execution_count": 1,
   "metadata": {},
   "outputs": [],
   "source": [
    "timestep = 100.0 # years\n",
    "L = 1350.0 # W/m^2\n",
    "albedo = 0.3\n",
    "epsilon = 1\n",
    "sigma = 5.67e-8 # W/m^2 K^4\n",
    "heat_capacity = 16736000000\n",
    "\n",
    "time, T, heat_content, heat_in, heat_out, heat_flux = [], [], [], [], [], []"
   ]
  },
  {
   "cell_type": "code",
   "execution_count": 11,
   "metadata": {},
   "outputs": [
    {
     "name": "stdout",
     "output_type": "stream",
     "text": [
      "Some name is Jacob\n",
      "Some name is Emma0.5\n",
      "Some name is Emma1.0\n",
      "Some name is Lilly\n"
     ]
    }
   ],
   "source": [
    "names = [\"Jacob\", \"Emma0.5\", \"Emma1.0\", \"Lilly\"]\n",
    "for i in names:\n",
    "    print(\"Some name is\",i)"
   ]
  },
  {
   "cell_type": "code",
   "execution_count": 20,
   "metadata": {},
   "outputs": [
    {
     "ename": "IndexError",
     "evalue": "list index out of range",
     "output_type": "error",
     "traceback": [
      "\u001b[0;31m---------------------------------------------------------------------------\u001b[0m",
      "\u001b[0;31mIndexError\u001b[0m                                Traceback (most recent call last)",
      "\u001b[0;32m<ipython-input-20-d7110d9dfdc9>\u001b[0m in \u001b[0;36m<module>\u001b[0;34m\u001b[0m\n\u001b[0;32m----> 1\u001b[0;31m \u001b[0mnames\u001b[0m\u001b[0;34m[\u001b[0m\u001b[0;36m50\u001b[0m\u001b[0;34m]\u001b[0m\u001b[0;34m\u001b[0m\u001b[0;34m\u001b[0m\u001b[0m\n\u001b[0m",
      "\u001b[0;31mIndexError\u001b[0m: list index out of range"
     ]
    }
   ],
   "source": [
    "names[50]"
   ]
  },
  {
   "cell_type": "code",
   "execution_count": null,
   "metadata": {},
   "outputs": [],
   "source": []
  },
  {
   "cell_type": "code",
   "execution_count": null,
   "metadata": {},
   "outputs": [],
   "source": []
  },
  {
   "cell_type": "code",
   "execution_count": 4,
   "metadata": {},
   "outputs": [
    {
     "name": "stdout",
     "output_type": "stream",
     "text": [
      "hi\n",
      "hi\n",
      "hi\n",
      "hi\n",
      "hi\n"
     ]
    }
   ],
   "source": [
    "for i in range(5):\n",
    "    print(\"hi\")"
   ]
  },
  {
   "cell_type": "code",
   "execution_count": 55,
   "metadata": {},
   "outputs": [
    {
     "data": {
      "text/plain": [
       "[<matplotlib.lines.Line2D at 0x112dc0240>]"
      ]
     },
     "execution_count": 55,
     "metadata": {},
     "output_type": "execute_result"
    },
    {
     "data": {
      "image/png": "[encoded data removed]",
      "text/plain": [
       "<Figure size 432x288 with 1 Axes>"
      ]
     },
     "metadata": {
      "needs_background": "light"
     },
     "output_type": "display_data"
    }
   ],
   "source": [
    "timestep = 100.0 # years\n",
    "water_depth = 4000.0 # m\n",
    "L = 1350.0 # W/m^2\n",
    "albedo = 0.3\n",
    "epsilon = 1\n",
    "sigma = 5.67e-8 # W/m^2 K^4\n",
    "heat_capacity = 16736000000\n",
    "\n",
    "time = []\n",
    "T = []\n",
    "heat_content = []\n",
    "heat_in = []\n",
    "heat_out = []\n",
    "heat_flux = []\n",
    "\n",
    "# Set up our planet\n",
    "time.append(0)\n",
    "T.append(0)\n",
    "heat_content.append(0)\n",
    "heat_in.append(L*(1-albedo)/4)\n",
    "heat_out.append(epsilon*sigma*T[-1]**4)\n",
    "\n",
    "heat_flux.append((heat_in[-1]-heat_out[-1])*60*60*24*365)\n",
    "\n",
    "\n",
    "nYears = 5000\n",
    "for i in range(nYears):\n",
    "    # Update heat content of planet based on how much heat\n",
    "    # flowed in/out last year\n",
    "    heat_content = heat_content + [heat_content[-1] + heat_flux[-1]]\n",
    "    # Figure out how much heat flows in this year\n",
    "    heat_in = heat_in + [L*(1-albedo)/4]\n",
    "    # Figure out how much heat flows out this year\n",
    "    heat_out= heat_out + [epsilon*sigma*T[-1]**4]\n",
    "    heat_flux = heat_flux + [(heat_in[-1] - heat_out[-1])*60*60*24*365]\n",
    "    T = T + [heat_content[-1]/heat_capacity]\n",
    "    # Keep track of everything in lists\n",
    "    last_year = time[-1]\n",
    "    time.append(last_year + 1)\n",
    "plt.plot(T)"
   ]
  },
  {
   "cell_type": "code",
   "execution_count": 46,
   "metadata": {},
   "outputs": [
    {
     "data": {
      "text/plain": [
       "[<matplotlib.lines.Line2D at 0x1126c40b8>]"
      ]
     },
     "execution_count": 46,
     "metadata": {},
     "output_type": "execute_result"
    },
    {
     "data": {
      "image/png": "[encoded data removed]",
      "text/plain": [
       "<Figure size 432x288 with 1 Axes>"
      ]
     },
     "metadata": {
      "needs_background": "light"
     },
     "output_type": "display_data"
    }
   ],
   "source": [
    "plt.plot(heat_flux)"
   ]
  },
  {
   "cell_type": "code",
   "execution_count": 35,
   "metadata": {},
   "outputs": [],
   "source": [
    "from matplotlib import pyplot as plt"
   ]
  },
  {
   "cell_type": "code",
   "execution_count": 36,
   "metadata": {},
   "outputs": [
    {
     "data": {
      "text/plain": [
       "[<matplotlib.lines.Line2D at 0x111f822e8>]"
      ]
     },
     "execution_count": 36,
     "metadata": {},
     "output_type": "execute_result"
    },
    {
     "data": {
      "image/png": "[encoded data removed]",
      "text/plain": [
       "<Figure size 432x288 with 1 Axes>"
      ]
     },
     "metadata": {
      "needs_background": "light"
     },
     "output_type": "display_data"
    }
   ],
   "source": [
    "plt.plot(T)"
   ]
  },
  {
   "cell_type": "code",
   "execution_count": 22,
   "metadata": {},
   "outputs": [
    {
     "data": {
      "text/plain": [
       "[0, 1, 2, 3, 4, 5, 10, 11, 12]"
      ]
     },
     "execution_count": 22,
     "metadata": {},
     "output_type": "execute_result"
    }
   ],
   "source": [
    "time = time + [10,11,12]\n",
    "time"
   ]
  },
  {
   "cell_type": "code",
   "execution_count": 23,
   "metadata": {},
   "outputs": [],
   "source": [
    "time.append(15)"
   ]
  },
  {
   "cell_type": "code",
   "execution_count": 24,
   "metadata": {},
   "outputs": [
    {
     "data": {
      "text/plain": [
       "[0, 1, 2, 3, 4, 5, 10, 11, 12, 15]"
      ]
     },
     "execution_count": 24,
     "metadata": {},
     "output_type": "execute_result"
    }
   ],
   "source": [
    "time"
   ]
  },
  {
   "cell_type": "code",
   "execution_count": null,
   "metadata": {},
   "outputs": [],
   "source": []
  }
 ],
 "metadata": {
  "kernelspec": {
   "display_name": "Python 3",
   "language": "python",
   "name": "python3"
  },
  "language_info": {
   "codemirror_mode": {
    "name": "ipython",
    "version": 3
   },
   "file_extension": ".py",
   "mimetype": "text/x-python",
   "name": "python",
   "nbconvert_exporter": "python",
   "pygments_lexer": "ipython3",
   "version": "3.6.7"
  }
 },
 "nbformat": 4,
 "nbformat_minor": 2
}
