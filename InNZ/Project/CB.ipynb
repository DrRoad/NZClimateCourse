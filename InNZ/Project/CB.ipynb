{
 "cells": [
  {
   "cell_type": "markdown",
   "metadata": {},
   "source": [
    "# Notes from Michael\n",
    "\n",
    "* These days, there's typically no need for `%matplotlib inline`"
   ]
  },
  {
   "cell_type": "code",
   "execution_count": 1,
   "metadata": {
    "collapsed": true
   },
   "outputs": [],
   "source": [
    "import numpy as np, scipy as sp\n",
    "#%matplotlib inline\n",
    "from matplotlib import pyplot as plt\n",
    "import math\n",
    "from ipywidgets import interact, interactive, fixed\n",
    "import ipywidgets as widgets"
   ]
  },
  {
   "cell_type": "code",
   "execution_count": 2,
   "metadata": {},
   "outputs": [],
   "source": [
    "def loop (a, r, T, t, z):\n",
    "    y = a - r\n",
    "    a = z*(100*t) #pgc/y in\n",
    "    r = (97*t)/z #pgc/y out\n",
    "    T = 79 + (2*(t)) #T increases by 2 every year\n",
    "    return y\n",
    "    #T = temperature, a = absorbed co2, r = released co2, z = zoaxanthelle, t = years\n",
    "    #if T rises then a decreases \n",
    "    for nt in range(t):\n",
    "        if T>79:\n",
    "            z = 1 - .1*t\n",
    "        else:\n",
    "            z = 1"
   ]
  },
  {
   "cell_type": "markdown",
   "metadata": {},
   "source": [
    "# Here's what you had next:\n",
    "\n",
    "```python\n",
    "t = 1\n",
    "plt.plot(loop, a)\n",
    "interact(loop,t=(0,100,1))\n",
    "```"
   ]
  },
  {
   "cell_type": "markdown",
   "metadata": {},
   "source": [
    "The first one works"
   ]
  },
  {
   "cell_type": "code",
   "execution_count": 3,
   "metadata": {
    "collapsed": true
   },
   "outputs": [],
   "source": [
    "t = 1"
   ]
  },
  {
   "cell_type": "markdown",
   "metadata": {},
   "source": [
    "The next one has some issues:"
   ]
  },
  {
   "cell_type": "code",
   "execution_count": 4,
   "metadata": {},
   "outputs": [
    {
     "ename": "NameError",
     "evalue": "name 'a' is not defined",
     "output_type": "error",
     "traceback": [
      "\u001b[0;31m---------------------------------------------------------------------------\u001b[0m",
      "\u001b[0;31mNameError\u001b[0m                                 Traceback (most recent call last)",
      "\u001b[0;32m<ipython-input-4-959aeb392711>\u001b[0m in \u001b[0;36m<module>\u001b[0;34m\u001b[0m\n\u001b[0;32m----> 1\u001b[0;31m \u001b[0mplt\u001b[0m\u001b[0;34m.\u001b[0m\u001b[0mplot\u001b[0m\u001b[0;34m(\u001b[0m\u001b[0mloop\u001b[0m\u001b[0;34m,\u001b[0m \u001b[0ma\u001b[0m\u001b[0;34m)\u001b[0m\u001b[0;34m\u001b[0m\u001b[0;34m\u001b[0m\u001b[0m\n\u001b[0m",
      "\u001b[0;31mNameError\u001b[0m: name 'a' is not defined"
     ]
    }
   ],
   "source": [
    "plt.plot(loop, a)"
   ]
  },
  {
   "cell_type": "markdown",
   "metadata": {},
   "source": [
    "OK. To be honest, I'm not 100% sure what you're doing here. What are you calculating each time through the loop? Here's one thought:\n",
    "\n",
    " * If you add comments at the beginning, it's clearer what the variables are.\n",
    " * Your loop doesn't actually loop over anything.\n",
    "   * Do you mean to be re-calculating y, a, r, T each time? If so, here's one version that does\n",
    "   "
   ]
  },
  {
   "cell_type": "code",
   "execution_count": 21,
   "metadata": {},
   "outputs": [],
   "source": [
    "def loop (a = 10, # absorbed co2\n",
    "          r = 8, # released c02\n",
    "          T = 200, # Temperature\n",
    "          t = 9, # years\n",
    "          z = 20, # zoaxanthelle\n",
    "         ):\n",
    "    #T = temperature, a = absorbed co2, r = released co2, z = zoaxanthelle, t = years\n",
    "    #if T rises then a decreases \n",
    "    ys = []\n",
    "    years = []\n",
    "    for nt in range(t): \n",
    "        if T>79:\n",
    "            z = 1 - .1*t\n",
    "        else:\n",
    "            z = 1\n",
    "\n",
    "        y = a - r # net absorbed\n",
    "        a = z*(100*t) #pgc/y in\n",
    "        r = (97*t)/z #pgc/y out\n",
    "        T = 79 + (2*(t)) #T increases by 2 every year\n",
    "        ys.append(y)\n",
    "        years.append(nt)\n",
    "    plt.plot(ys,years)"
   ]
  },
  {
   "cell_type": "code",
   "execution_count": 22,
   "metadata": {},
   "outputs": [
    {
     "data": {
      "image/png": "[encoded data removed]",
      "text/plain": [
       "<Figure size 432x288 with 1 Axes>"
      ]
     },
     "metadata": {
      "needs_background": "light"
     },
     "output_type": "display_data"
    }
   ],
   "source": [
    "loop()"
   ]
  },
  {
   "cell_type": "code",
   "execution_count": 24,
   "metadata": {},
   "outputs": [
    {
     "data": {
      "application/vnd.jupyter.widget-view+json": {
       "model_id": "507709aff3764c06b7bdf2adc15321ef",
       "version_major": 2,
       "version_minor": 0
      },
      "text/plain": [
       "interactive(children=(IntSlider(value=10, description='a', max=30, min=-10), IntSlider(value=8, description='r…"
      ]
     },
     "metadata": {},
     "output_type": "display_data"
    },
    {
     "data": {
      "text/plain": [
       "<function __main__.loop(a=10, r=8, T=200, t=9, z=20)>"
      ]
     },
     "execution_count": 24,
     "metadata": {},
     "output_type": "execute_result"
    }
   ],
   "source": [
    "interact(loop,t=(0,100,1))"
   ]
  },
  {
   "cell_type": "code",
   "execution_count": null,
   "metadata": {},
   "outputs": [],
   "source": []
  }
 ],
 "metadata": {
  "kernelspec": {
   "display_name": "Python 3",
   "language": "python",
   "name": "python3"
  },
  "language_info": {
   "codemirror_mode": {
    "name": "ipython",
    "version": 3
   },
   "file_extension": ".py",
   "mimetype": "text/x-python",
   "name": "python",
   "nbconvert_exporter": "python",
   "pygments_lexer": "ipython3",
   "version": "3.7.1"
  }
 },
 "nbformat": 4,
 "nbformat_minor": 2
}
