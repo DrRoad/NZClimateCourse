{
 "cells": [
  {
   "cell_type": "code",
   "execution_count": 1,
   "metadata": {
    "collapsed": true
   },
   "outputs": [],
   "source": [
    "import numpy as np, scipy as sp\n",
    "from matplotlib import pyplot as plt\n",
    "import math\n",
    "from ipywidgets import interact, interactive, fixed\n",
    "import ipywidgets as widgets"
   ]
  },
  {
   "cell_type": "code",
   "execution_count": 2,
   "metadata": {},
   "outputs": [],
   "source": [
    "def loop (a = 10, # absorbed co2\n",
    "          r = 8, # released c02\n",
    "          T = 200, # Temperature\n",
    "          t = 9, # years\n",
    "          z = 20, # zoaxanthelle\n",
    "         ):\n",
    "    y = a - r #in - out\n",
    "    a = z*(100*t) #pgc/y in\n",
    "    r = (97*t)/z #pgc/y out\n",
    "    T = 79 + (2*(t)) #T increases by 2 every year\n",
    "    return y\n",
    "    #T = temperature, a = absorbed co2, r = released co2, z = zoaxanthelle or the algae on the coral, t = years, y = net exchange\n",
    "    #if T rises then a decreases and r increases, 79 is the highest temperature for ideal coral habitat, above it means trouble\n",
    "    for ys in range(year):\n",
    "        if T>79:\n",
    "            z = 1 - .1*t #lose more algae as T increases per year \n",
    "        else:\n",
    "            z = 1\n",
    "    ys = []\n",
    "    years = []"
   ]
  },
  {
   "cell_type": "code",
   "execution_count": 3,
   "metadata": {},
   "outputs": [
    {
     "data": {
      "application/vnd.jupyter.widget-view+json": {
       "model_id": "d0c9e66945124b4c92126e3082301e18",
       "version_major": 2,
       "version_minor": 0
      },
      "text/plain": [
       "interactive(children=(IntSlider(value=10, description='a', max=30, min=-10), IntSlider(value=8, description='r…"
      ]
     },
     "metadata": {},
     "output_type": "display_data"
    },
    {
     "data": {
      "text/plain": [
       "<function __main__.loop(a=10, r=8, T=200, t=9, z=20)>"
      ]
     },
     "execution_count": 3,
     "metadata": {},
     "output_type": "execute_result"
    }
   ],
   "source": [
    "t = 1\n",
    "loop()\n",
    "interact(loop,t=(0,100,1))"
   ]
  },
  {
   "cell_type": "code",
   "execution_count": 8,
   "metadata": {},
   "outputs": [],
   "source": [
    "def loop (a = 100, # absorbed co2\n",
    "          r = 97, # released c02\n",
    "          T = 60, # Temperature\n",
    "          t = 9, # years\n",
    "          z = 10\n",
    "         ):\n",
    "    #T = temperature, a = absorbed co2, r = released co2, z = zoaxanthelle, t = years\n",
    "    #if T rises then a decreases \n",
    "    ys = []\n",
    "    years = []\n",
    "    for nt in range(t): \n",
    "        if T>104:\n",
    "            a = 100 - 1*(t-22)\n",
    "            z = 1 - .1*t #lose more algae as T increases per year\n",
    "        else:\n",
    "            a = 100\n",
    "            z = 1\n",
    "\n",
    "        y = a - r # net absorbed\n",
    "        a = 100 #pgc/y in\n",
    "        r = 97 #pgc/y out.\n",
    "        T = 60 + (2*(t)) #T increases by 2 every year\n",
    "        ys.append(y)\n",
    "        years.append(nt)\n",
    "    plt.plot(years,ys)\n",
    "    plt.xlabel('years')\n",
    "    plt.ylabel('net')"
   ]
  },
  {
   "cell_type": "code",
   "execution_count": 9,
   "metadata": {},
   "outputs": [
    {
     "data": {
      "application/vnd.jupyter.widget-view+json": {
       "model_id": "7fd9a1634fb946ab916032fa76fb75e6",
       "version_major": 2,
       "version_minor": 0
      },
      "text/plain": [
       "interactive(children=(IntSlider(value=100, description='a', max=300, min=-100), IntSlider(value=97, descriptio…"
      ]
     },
     "metadata": {},
     "output_type": "display_data"
    },
    {
     "data": {
      "text/plain": [
       "<function __main__.loop(a=100, r=97, T=60, t=9, z=10)>"
      ]
     },
     "execution_count": 9,
     "metadata": {},
     "output_type": "execute_result"
    }
   ],
   "source": [
    "interact(loop,t=(0,50,1))"
   ]
  },
  {
   "cell_type": "markdown",
   "metadata": {},
   "source": [
    "# SUBPLOTS!\n",
    "\n",
    "OK, I want to see a couple of things at once. You have a couple of options. One is to just make a few plots. `plt.subplots()` does that. You can look up the documentation, but it takes in rows and columns as arguments, and then gives you a set of axes as a result. You then tell these axes to plot things directly, rather than using plt. Obnoxiously enough, that means saying things a little differently. `ax1.set_xlabel()` instead of `plt.xlabel()` for instance.\n",
    "\n",
    "Here's me doing that with temperature:"
   ]
  },
  {
   "cell_type": "code",
   "execution_count": 18,
   "metadata": {
    "collapsed": true
   },
   "outputs": [
    {
     "data": {
      "application/vnd.jupyter.widget-view+json": {
       "model_id": "6479b1b8982449beaee5be77c004f37f",
       "version_major": 2,
       "version_minor": 0
      },
      "text/plain": [
       "interactive(children=(IntSlider(value=100, description='a', max=300, min=-100), IntSlider(value=97, descriptio…"
      ]
     },
     "metadata": {},
     "output_type": "display_data"
    }
   ],
   "source": [
    "def loop (a = 100, # absorbed co2\n",
    "          r = 97, # released c02\n",
    "          T = 60, # Temperature\n",
    "          t = 9, # years\n",
    "          z = 10\n",
    "         ):\n",
    "    #T = temperature, a = absorbed co2, r = released co2, z = zoaxanthelle, t = years\n",
    "    #if T rises then a decreases \n",
    "    fig, (ax1, ax2) = plt.subplots(nrows=1,ncols=2)\n",
    "    ys = []\n",
    "    years = []\n",
    "    Ts = []\n",
    "    for nt in range(t): \n",
    "        if T>104:\n",
    "            a = 100 - 1*(t-22)\n",
    "            z = 1 - .1*t #lose more algae as T increases per year\n",
    "        else:\n",
    "            a = 100\n",
    "            z = 1\n",
    "\n",
    "        y = a - r # net absorbed\n",
    "        a = 100 #pgc/y in\n",
    "        r = 97 #pgc/y out.\n",
    "        T = 60 + (2*(t)) #T increases by 2 every year\n",
    "        ys.append(y)\n",
    "        years.append(nt)\n",
    "        Ts.append(T)\n",
    "    ax1.plot(years,ys)\n",
    "    ax1.set_xlabel('years')\n",
    "    ax1.set_ylabel('net')\n",
    "\n",
    "    ax2.plot(years,Ts)\n",
    "    ax2.set_xlabel('years')\n",
    "    ax2.set_ylabel('T')\n",
    "    plt.tight_layout() # see https://matplotlib.org/users/tight_layout_guide.html\n",
    "\n",
    "interact(loop,t=(0,50,1));"
   ]
  },
  {
   "cell_type": "markdown",
   "metadata": {},
   "source": [
    "... and that makes it clear that `T` isn't changing. Oops. Because you told it to care about `t` rather than `nt`."
   ]
  },
  {
   "cell_type": "code",
   "execution_count": 19,
   "metadata": {},
   "outputs": [
    {
     "data": {
      "application/vnd.jupyter.widget-view+json": {
       "model_id": "c8c37d52d2e24dbab9a62dabc29dcc22",
       "version_major": 2,
       "version_minor": 0
      },
      "text/plain": [
       "interactive(children=(IntSlider(value=100, description='a', max=300, min=-100), IntSlider(value=97, descriptio…"
      ]
     },
     "metadata": {},
     "output_type": "display_data"
    }
   ],
   "source": [
    "def loop (a = 100, # absorbed co2\n",
    "          r = 97, # released c02\n",
    "          T = 60, # Temperature\n",
    "          t = 9, # years\n",
    "          z = 10\n",
    "         ):\n",
    "    #T = temperature, a = absorbed co2, r = released co2, z = zoaxanthelle, t = years\n",
    "    #if T rises then a decreases \n",
    "    fig, (ax1, ax2) = plt.subplots(nrows=1,ncols=2)\n",
    "    ys = []\n",
    "    years = []\n",
    "    Ts = []\n",
    "    for nt in range(t): \n",
    "        if T>104:\n",
    "            a = 100 - 1*(t-22)\n",
    "            z = 1 - .1*t #lose more algae as T increases per year\n",
    "        else:\n",
    "            a = 100\n",
    "            z = 1\n",
    "\n",
    "        y = a - r # net absorbed\n",
    "        a = 100 #pgc/y in\n",
    "        r = 97 #pgc/y out.\n",
    "        T = 60 + (2*(nt)) #T increases by 2 every year\n",
    "        ys.append(y)\n",
    "        years.append(nt)\n",
    "        Ts.append(T)\n",
    "    ax1.plot(years,ys)\n",
    "    ax1.set_xlabel('years')\n",
    "    ax1.set_ylabel('net')\n",
    "\n",
    "    ax2.plot(years,Ts)\n",
    "    ax2.set_xlabel('years')\n",
    "    ax2.set_ylabel('T')\n",
    "    plt.tight_layout() # see https://matplotlib.org/users/tight_layout_guide.html\n",
    "\n",
    "interact(loop,t=(0,50,1));"
   ]
  },
  {
   "cell_type": "code",
   "execution_count": null,
   "metadata": {},
   "outputs": [],
   "source": []
  }
 ],
 "metadata": {
  "kernelspec": {
   "display_name": "Python 3",
   "language": "python",
   "name": "python3"
  },
  "language_info": {
   "codemirror_mode": {
    "name": "ipython",
    "version": 3
   },
   "file_extension": ".py",
   "mimetype": "text/x-python",
   "name": "python",
   "nbconvert_exporter": "python",
   "pygments_lexer": "ipython3",
   "version": "3.7.1"
  }
 },
 "nbformat": 4,
 "nbformat_minor": 2
}
