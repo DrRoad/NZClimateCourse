{
 "cells": [
  {
   "cell_type": "markdown",
   "metadata": {},
   "source": [
    "# Notes for Libby and Finn\n",
    "\n",
    "Hi all,\n",
    "\n",
    "For some reason, your project wouldn't open up in Word for me ... and Moodle made it look like it was missing until I clicked through on Finn's submission. So, my apologies for the late responses!\n",
    "\n",
    "Let's start with the Ising model from class:"
   ]
  },
  {
   "cell_type": "code",
   "execution_count": 2,
   "metadata": {},
   "outputs": [],
   "source": [
    "import numpy as np, scipy as sp\n",
    "from matplotlib import pyplot as plt\n",
    "from numpy.random import random # import only one function\n",
    "from numpy.random import randint"
   ]
  },
  {
   "cell_type": "markdown",
   "metadata": {},
   "source": [
    "## Internal energy\n",
    "\n",
    "Recall, the basic idea for the Ising model is that you want to be like your neighbors. So, we ended up with this in class:"
   ]
  },
  {
   "cell_type": "code",
   "execution_count": 3,
   "metadata": {},
   "outputs": [],
   "source": [
    "def energy_internal(state):\n",
    "    # minus sign means like neighbors give a negative number\n",
    "    return -np.sum(\n",
    "        state * np.roll(state, 1, axis=0) + # get all of the neighbors in one direction\n",
    "        state * np.roll(state, 1, axis=1) +\n",
    "        state * np.roll(state, -1, axis=0) +\n",
    "        state * np.roll(state, -1, axis=1)\n",
    "    )/2\n"
   ]
  },
  {
   "cell_type": "markdown",
   "metadata": {},
   "source": [
    "## How do we use the Ising model\n",
    "\n",
    "1. Pick a random row and column\n",
    "2. Flip that one. If it was -1, make it +1. If it was +1, make it -1.\n",
    "3. Do we want to take that coin flip? Well, if it's lower in energy, yes. If it's higher in energy, no.\n",
    "\n",
    "Fancier version, called Metropolis Monte Carlo\n",
    "\n",
    "1. Pick a random row and column\n",
    "2. Flip that one. If it was -1, make it +1. If it was +1, make it -1.\n",
    "3. Do we want to take that coin flip? \n",
    "   1. If it's lower energy, yes.\n",
    "   2. If it's higher energy, do something based on temperature.\n",
    "\n",
    "(Again, this should be the same as you saw in class)\n",
    "\n",
    "So, we pick a starting state"
   ]
  },
  {
   "cell_type": "code",
   "execution_count": 4,
   "metadata": {},
   "outputs": [
    {
     "data": {
      "text/plain": [
       "<matplotlib.image.AxesImage at 0x11f5995f8>"
      ]
     },
     "execution_count": 4,
     "metadata": {},
     "output_type": "execute_result"
    },
    {
     "data": {
      "image/png": "[encoded data removed]",
      "text/plain": [
       "<Figure size 432x288 with 1 Axes>"
      ]
     },
     "metadata": {
      "needs_background": "light"
     },
     "output_type": "display_data"
    }
   ],
   "source": [
    "width = 50\n",
    "state = random(size=(width,width))\n",
    "state[state<=0.5] = -1\n",
    "state[state>0.5] = 1\n",
    "plt.imshow(state)"
   ]
  },
  {
   "cell_type": "markdown",
   "metadata": {},
   "source": [
    "And we run it at a temperature that shows domains. In \"magic scaled units\" that's T = 2.27"
   ]
  },
  {
   "cell_type": "code",
   "execution_count": 5,
   "metadata": {},
   "outputs": [
    {
     "data": {
      "text/plain": [
       "<matplotlib.image.AxesImage at 0x11f721d30>"
      ]
     },
     "execution_count": 5,
     "metadata": {},
     "output_type": "execute_result"
    },
    {
     "data": {
      "image/png": "[encoded data removed]",
      "text/plain": [
       "<Figure size 432x288 with 1 Axes>"
      ]
     },
     "metadata": {
      "needs_background": "light"
     },
     "output_type": "display_data"
    }
   ],
   "source": [
    "ntrials = 20000\n",
    "T = 2.27\n",
    "for ntrial in range(ntrials):\n",
    "    row, column = randint(width), randint(width)\n",
    "    # flip one at random\n",
    "    # if it's lower in energy, take it. otherwise, reject it.\n",
    "    new_state = state.copy()\n",
    "    new_state[row,column] = -state[row,column]\n",
    "    energy_change = energy_internal(new_state) - energy_internal(state)\n",
    "    if energy_change < 0: # this asks if the new state is better\n",
    "        state = new_state\n",
    "    else:\n",
    "        if random() < np.exp(-energy_change/T):\n",
    "            state = new_state\n",
    "plt.imshow(state)"
   ]
  },
  {
   "cell_type": "markdown",
   "metadata": {},
   "source": [
    "Or, if we run it at a \"hotter\" temperature, we see it heat back up."
   ]
  },
  {
   "cell_type": "code",
   "execution_count": 6,
   "metadata": {},
   "outputs": [
    {
     "data": {
      "text/plain": [
       "<matplotlib.image.AxesImage at 0x11f7a0518>"
      ]
     },
     "execution_count": 6,
     "metadata": {},
     "output_type": "execute_result"
    },
    {
     "data": {
      "image/png": "[encoded data removed]",
      "text/plain": [
       "<Figure size 432x288 with 1 Axes>"
      ]
     },
     "metadata": {
      "needs_background": "light"
     },
     "output_type": "display_data"
    }
   ],
   "source": [
    "ntrials = 20000\n",
    "T = 5\n",
    "for ntrial in range(ntrials):\n",
    "    row, column = randint(width), randint(width)\n",
    "    # flip one at random\n",
    "    # if it's lower in energy, take it. otherwise, reject it.\n",
    "    new_state = state.copy()\n",
    "    new_state[row,column] = -state[row,column]\n",
    "    energy_change = energy_internal(new_state) - energy_internal(state)\n",
    "    if energy_change < 0: # this asks if the new state is better\n",
    "        state = new_state\n",
    "    else:\n",
    "        if random() < np.exp(-energy_change/T):\n",
    "            state = new_state\n",
    "plt.imshow(state)"
   ]
  },
  {
   "cell_type": "markdown",
   "metadata": {},
   "source": [
    "Great. On to what you want. The full Ising model has the idea of a background field. For magnets, it's either spin up or spin down. You want something that's related to how likely a pathogen is to spread. So, let's just decide that squares with a value of `1` have the pathogen, and squares with a value of `-1` don't. Which is which? Let's draw a color bar:"
   ]
  },
  {
   "cell_type": "code",
   "execution_count": 7,
   "metadata": {},
   "outputs": [
    {
     "data": {
      "text/plain": [
       "<matplotlib.colorbar.Colorbar at 0x11f913cc0>"
      ]
     },
     "execution_count": 7,
     "metadata": {},
     "output_type": "execute_result"
    },
    {
     "data": {
      "image/png": "[encoded data removed]",
      "text/plain": [
       "<Figure size 432x288 with 2 Axes>"
      ]
     },
     "metadata": {
      "needs_background": "light"
     },
     "output_type": "display_data"
    }
   ],
   "source": [
    "plt.imshow(state)\n",
    "plt.colorbar()"
   ]
  },
  {
   "cell_type": "markdown",
   "metadata": {},
   "source": [
    "OK. So the yellow squares have the pathogen. In the traditional Ising model, you have an external magnetic field, and each square is likely to align with that field. In your case, we'll use that to say how likely you are to get the pathogen.\n",
    "\n",
    "That makes it sound more complicated than it is. Here's an easy way to visualize things. Let's say there's an external environment that makes everything more likely to have the pathogen. Except maybe for one little square. So, it should be all yellow in our visualization:"
   ]
  },
  {
   "cell_type": "code",
   "execution_count": 8,
   "metadata": {},
   "outputs": [
    {
     "data": {
      "text/plain": [
       "<matplotlib.colorbar.Colorbar at 0x11fa7bac8>"
      ]
     },
     "execution_count": 8,
     "metadata": {},
     "output_type": "execute_result"
    },
    {
     "data": {
      "image/png": "[encoded data removed]",
      "text/plain": [
       "<Figure size 432x288 with 2 Axes>"
      ]
     },
     "metadata": {
      "needs_background": "light"
     },
     "output_type": "display_data"
    }
   ],
   "source": [
    "external_field = np.ones_like(state)\n",
    "external_field[0,0] = -1\n",
    "plt.imshow(external_field)\n",
    "plt.colorbar()"
   ]
  },
  {
   "cell_type": "markdown",
   "metadata": {},
   "source": [
    "# Now, how do we add up the energy?\n",
    "\n",
    "Well, we just add a new term, called external_energy.\n",
    "\n",
    "This takes advantage of some cute numerical stuff in python: when we multiply one matrix by another, it just multiplies the corresponding terms. So, (row 1, colum 1 of the first matrix) times (row 1, column 1 of the second matrix), (row 1, column 2 of the first matrix) times (row 1, column 2 of the second) , etc.\n",
    "\n",
    "Then this just adds up each of those. Remind yourself of the reason we chose -1 and +1 before: when they're the same, you get +1 for the product. When they're different, you get -1."
   ]
  },
  {
   "cell_type": "code",
   "execution_count": 9,
   "metadata": {},
   "outputs": [],
   "source": [
    "def energy_external(state):\n",
    "    return - np.sum(external_field*state)"
   ]
  },
  {
   "cell_type": "markdown",
   "metadata": {},
   "source": [
    "Now we can re-do our Ising model, **adding in the external energy**"
   ]
  },
  {
   "cell_type": "code",
   "execution_count": 10,
   "metadata": {},
   "outputs": [
    {
     "data": {
      "text/plain": [
       "<matplotlib.image.AxesImage at 0x11fb34b70>"
      ]
     },
     "execution_count": 10,
     "metadata": {},
     "output_type": "execute_result"
    },
    {
     "data": {
      "image/png": "[encoded data removed]",
      "text/plain": [
       "<Figure size 432x288 with 1 Axes>"
      ]
     },
     "metadata": {
      "needs_background": "light"
     },
     "output_type": "display_data"
    }
   ],
   "source": [
    "ntrials = 20000\n",
    "T = 5\n",
    "for ntrial in range(ntrials):\n",
    "    row, column = randint(width), randint(width)\n",
    "    # flip one at random\n",
    "    # if it's lower in energy, take it. otherwise, reject it.\n",
    "    new_state = state.copy()\n",
    "    new_state[row,column] = -state[row,column]\n",
    "    # THIS IS WHERE WE ADD THE NEW STUFF\n",
    "    energy_change_internal = energy_internal(new_state) - energy_internal(state)\n",
    "    energy_change_external = energy_external(new_state) - energy_external(state)\n",
    "    energy_change = energy_change_internal + energy_change_external\n",
    "    if energy_change < 0: # this asks if the new state is better\n",
    "        state = new_state\n",
    "    else:\n",
    "        if random() < np.exp(-energy_change/T):\n",
    "            state = new_state\n",
    "plt.imshow(state)"
   ]
  },
  {
   "cell_type": "markdown",
   "metadata": {},
   "source": [
    "See how, even though it's \"random\" it looks more yellow? Because our background field is more yellow, in escence. So, we if we just made part of it yellow?\n",
    "\n",
    "This says \"anything in a row greater than 25, and a column greater than 25, become `-1`"
   ]
  },
  {
   "cell_type": "code",
   "execution_count": 11,
   "metadata": {},
   "outputs": [
    {
     "data": {
      "text/plain": [
       "<matplotlib.image.AxesImage at 0x11fc008d0>"
      ]
     },
     "execution_count": 11,
     "metadata": {},
     "output_type": "execute_result"
    },
    {
     "data": {
      "image/png": "[encoded data removed]",
      "text/plain": [
       "<Figure size 432x288 with 1 Axes>"
      ]
     },
     "metadata": {
      "needs_background": "light"
     },
     "output_type": "display_data"
    }
   ],
   "source": [
    "external_field[25:,25:] = -1\n",
    "plt.imshow(external_field)"
   ]
  },
  {
   "cell_type": "code",
   "execution_count": 12,
   "metadata": {},
   "outputs": [
    {
     "data": {
      "text/plain": [
       "<matplotlib.image.AxesImage at 0x11ef9eef0>"
      ]
     },
     "execution_count": 12,
     "metadata": {},
     "output_type": "execute_result"
    },
    {
     "data": {
      "image/png": "[encoded data removed]",
      "text/plain": [
       "<Figure size 432x288 with 1 Axes>"
      ]
     },
     "metadata": {
      "needs_background": "light"
     },
     "output_type": "display_data"
    }
   ],
   "source": [
    "ntrials = 20000\n",
    "T = 5\n",
    "for ntrial in range(ntrials):\n",
    "    row, column = randint(width), randint(width)\n",
    "    # flip one at random\n",
    "    # if it's lower in energy, take it. otherwise, reject it.\n",
    "    new_state = state.copy()\n",
    "    new_state[row,column] = -state[row,column]\n",
    "    # THIS IS WHERE WE ADD THE NEW STUFF\n",
    "    energy_change_internal = energy_internal(new_state) - energy_internal(state)\n",
    "    energy_change_external = energy_external(new_state) - energy_external(state)\n",
    "    energy_change = energy_change_internal + energy_change_external\n",
    "    if energy_change < 0: # this asks if the new state is better\n",
    "        state = new_state\n",
    "    else:\n",
    "        if random() < np.exp(-energy_change/T):\n",
    "            state = new_state\n",
    "plt.imshow(state)"
   ]
  },
  {
   "cell_type": "markdown",
   "metadata": {},
   "source": [
    "So, you could make the external field look however you want. It doesn't have to be +1 and -1 ... it could have +2 or -2 in it for stronger effects."
   ]
  },
  {
   "cell_type": "code",
   "execution_count": 13,
   "metadata": {},
   "outputs": [
    {
     "data": {
      "text/plain": [
       "<matplotlib.colorbar.Colorbar at 0x11fdbd898>"
      ]
     },
     "execution_count": 13,
     "metadata": {},
     "output_type": "execute_result"
    },
    {
     "data": {
      "image/png": "[encoded data removed]",
      "text/plain": [
       "<Figure size 432x288 with 2 Axes>"
      ]
     },
     "metadata": {
      "needs_background": "light"
     },
     "output_type": "display_data"
    }
   ],
   "source": [
    "external_field[25:,25:] = -1\n",
    "external_field[:10,:10] = 2\n",
    "plt.imshow(external_field)\n",
    "plt.colorbar()"
   ]
  },
  {
   "cell_type": "markdown",
   "metadata": {},
   "source": [
    "So, you need to look carefully at the colors. In that one, yellow is +2, purple is -1. But when you plot the `state` later, you'll only have +1 and -1."
   ]
  },
  {
   "cell_type": "code",
   "execution_count": 14,
   "metadata": {},
   "outputs": [
    {
     "data": {
      "text/plain": [
       "<matplotlib.image.AxesImage at 0x11ff41390>"
      ]
     },
     "execution_count": 14,
     "metadata": {},
     "output_type": "execute_result"
    },
    {
     "data": {
      "image/png": "[encoded data removed]",
      "text/plain": [
       "<Figure size 432x288 with 1 Axes>"
      ]
     },
     "metadata": {
      "needs_background": "light"
     },
     "output_type": "display_data"
    }
   ],
   "source": [
    "ntrials = 20000\n",
    "T = 5\n",
    "for ntrial in range(ntrials):\n",
    "    row, column = randint(width), randint(width)\n",
    "    # flip one at random\n",
    "    # if it's lower in energy, take it. otherwise, reject it.\n",
    "    new_state = state.copy()\n",
    "    new_state[row,column] = -state[row,column]\n",
    "    # THIS IS WHERE WE ADD THE NEW STUFF\n",
    "    energy_change_internal = energy_internal(new_state) - energy_internal(state)\n",
    "    energy_change_external = energy_external(new_state) - energy_external(state)\n",
    "    energy_change = energy_change_internal + energy_change_external\n",
    "    if energy_change < 0: # this asks if the new state is better\n",
    "        state = new_state\n",
    "    else:\n",
    "        if random() < np.exp(-energy_change/T):\n",
    "            state = new_state\n",
    "plt.imshow(state)"
   ]
  },
  {
   "cell_type": "markdown",
   "metadata": {},
   "source": [
    "So, the square at the top left really wants to spread pathogens. The square at the bottom right doesn't want to. That should give you something to start with. If you wanted to start with no pathogens, you'd start with everything set to -1:"
   ]
  },
  {
   "cell_type": "code",
   "execution_count": 15,
   "metadata": {},
   "outputs": [],
   "source": [
    "state = np.ones_like(state) * -1"
   ]
  },
  {
   "cell_type": "code",
   "execution_count": 16,
   "metadata": {},
   "outputs": [
    {
     "data": {
      "text/plain": [
       "<matplotlib.image.AxesImage at 0x12002bb70>"
      ]
     },
     "execution_count": 16,
     "metadata": {},
     "output_type": "execute_result"
    },
    {
     "data": {
      "image/png": "[encoded data removed]",
      "text/plain": [
       "<Figure size 432x288 with 1 Axes>"
      ]
     },
     "metadata": {
      "needs_background": "light"
     },
     "output_type": "display_data"
    }
   ],
   "source": [
    "ntrials = 20000\n",
    "T = 2\n",
    "for ntrial in range(ntrials):\n",
    "    row, column = randint(width), randint(width)\n",
    "    # flip one at random\n",
    "    # if it's lower in energy, take it. otherwise, reject it.\n",
    "    new_state = state.copy()\n",
    "    new_state[row,column] = -state[row,column]\n",
    "    # THIS IS WHERE WE ADD THE NEW STUFF\n",
    "    energy_change_internal = energy_internal(new_state) - energy_internal(state)\n",
    "    energy_change_external = energy_external(new_state) - energy_external(state)\n",
    "    energy_change = energy_change_internal + energy_change_external\n",
    "    if energy_change < 0: # this asks if the new state is better\n",
    "        state = new_state\n",
    "    else:\n",
    "        if random() < np.exp(-energy_change/T):\n",
    "            state = new_state\n",
    "plt.imshow(state)"
   ]
  },
  {
   "cell_type": "markdown",
   "metadata": {},
   "source": [
    "So, that should give you something to play around with. Play with that, ask some questions, and we'll make it better."
   ]
  },
  {
   "cell_type": "markdown",
   "metadata": {},
   "source": [
    "## Making something like your example\n",
    "\n",
    "Your example looked something like this:"
   ]
  },
  {
   "cell_type": "code",
   "execution_count": 19,
   "metadata": {},
   "outputs": [
    {
     "data": {
      "text/plain": [
       "<matplotlib.colorbar.Colorbar at 0x120336048>"
      ]
     },
     "execution_count": 19,
     "metadata": {},
     "output_type": "execute_result"
    },
    {
     "data": {
      "image/png": "[encoded data removed]",
      "text/plain": [
       "<Figure size 432x288 with 2 Axes>"
      ]
     },
     "metadata": {
      "needs_background": "light"
     },
     "output_type": "display_data"
    }
   ],
   "source": [
    "external_field = np.ones_like(state)\n",
    "# make the top left chunk livestock waste\n",
    "# where livestock waste is really bad news\n",
    "\n",
    "external_field[0:25,0:15] = 2\n",
    "plt.imshow(external_field)\n",
    "plt.colorbar()"
   ]
  },
  {
   "cell_type": "markdown",
   "metadata": {},
   "source": [
    "So, the above part says \"everything that's between rows 0 and 25 and also between columns 0 and 15 gets set to 2\"\n",
    "\n",
    "Now we can set the agg field to something intermediate, like zero. We'll make that the same columns 0 to 15, but this time it's rows 25 to 50."
   ]
  },
  {
   "cell_type": "code",
   "execution_count": 20,
   "metadata": {},
   "outputs": [
    {
     "data": {
      "text/plain": [
       "<matplotlib.colorbar.Colorbar at 0x12085dc88>"
      ]
     },
     "execution_count": 20,
     "metadata": {},
     "output_type": "execute_result"
    },
    {
     "data": {
      "image/png": "[encoded data removed]",
      "text/plain": [
       "<Figure size 432x288 with 2 Axes>"
      ]
     },
     "metadata": {
      "needs_background": "light"
     },
     "output_type": "display_data"
    }
   ],
   "source": [
    "external_field[25:50,0:15] = 0\n",
    "plt.imshow(external_field)\n",
    "plt.colorbar()"
   ]
  },
  {
   "cell_type": "markdown",
   "metadata": {},
   "source": [
    "You also had undeveloped forest ... let's say that makes it hard for the pathogen to spread. You had that covering the top right and then the right side.\n",
    "\n",
    "Right side: columns 35 - 50, all rows"
   ]
  },
  {
   "cell_type": "code",
   "execution_count": 21,
   "metadata": {},
   "outputs": [
    {
     "data": {
      "text/plain": [
       "<matplotlib.colorbar.Colorbar at 0x120916320>"
      ]
     },
     "execution_count": 21,
     "metadata": {},
     "output_type": "execute_result"
    },
    {
     "data": {
      "image/png": "[encoded data removed]",
      "text/plain": [
       "<Figure size 432x288 with 2 Axes>"
      ]
     },
     "metadata": {
      "needs_background": "light"
     },
     "output_type": "display_data"
    }
   ],
   "source": [
    "external_field[0:50,35:50] = -1\n",
    "plt.imshow(external_field)\n",
    "plt.colorbar()"
   ]
  },
  {
   "cell_type": "markdown",
   "metadata": {},
   "source": [
    "And then a little chunk of more forest. Note that the colors are changing each time, as Python automatically scales the lowest value to purple and the highest to yellow."
   ]
  },
  {
   "cell_type": "code",
   "execution_count": 22,
   "metadata": {},
   "outputs": [
    {
     "data": {
      "text/plain": [
       "<matplotlib.colorbar.Colorbar at 0x120499dd8>"
      ]
     },
     "execution_count": 22,
     "metadata": {},
     "output_type": "execute_result"
    },
    {
     "data": {
      "image/png": "[encoded data removed]",
      "text/plain": [
       "<Figure size 432x288 with 2 Axes>"
      ]
     },
     "metadata": {
      "needs_background": "light"
     },
     "output_type": "display_data"
    }
   ],
   "source": [
    "external_field[0:15,25:35] = -1\n",
    "plt.imshow(external_field)\n",
    "plt.colorbar()"
   ]
  },
  {
   "cell_type": "markdown",
   "metadata": {},
   "source": [
    "You also had people in one chunk. I don't know, but let's say people spread the pathogen quite a bit as well. Maybe a value of 1.5?"
   ]
  },
  {
   "cell_type": "code",
   "execution_count": 23,
   "metadata": {},
   "outputs": [
    {
     "data": {
      "text/plain": [
       "<matplotlib.colorbar.Colorbar at 0x120667f28>"
      ]
     },
     "execution_count": 23,
     "metadata": {},
     "output_type": "execute_result"
    },
    {
     "data": {
      "image/png": "[encoded data removed]",
      "text/plain": [
       "<Figure size 432x288 with 2 Axes>"
      ]
     },
     "metadata": {
      "needs_background": "light"
     },
     "output_type": "display_data"
    }
   ],
   "source": [
    "external_field[40:50,25:35] = 1.5\n",
    "plt.imshow(external_field)\n",
    "plt.colorbar()"
   ]
  },
  {
   "cell_type": "markdown",
   "metadata": {},
   "source": [
    "If we had been clever, we could have done that all in one cell:"
   ]
  },
  {
   "cell_type": "code",
   "execution_count": 24,
   "metadata": {},
   "outputs": [
    {
     "data": {
      "text/plain": [
       "<matplotlib.colorbar.Colorbar at 0x12097a780>"
      ]
     },
     "execution_count": 24,
     "metadata": {},
     "output_type": "execute_result"
    },
    {
     "data": {
      "image/png": "[encoded data removed]",
      "text/plain": [
       "<Figure size 432x288 with 2 Axes>"
      ]
     },
     "metadata": {
      "needs_background": "light"
     },
     "output_type": "display_data"
    }
   ],
   "source": [
    "external_field = np.ones_like(state)\n",
    "\n",
    "external_field[0:25,0:15] = 2\n",
    "external_field[25:50,0:15] = 0\n",
    "external_field[0:50,35:50] = -1\n",
    "external_field[0:15,25:35] = -1\n",
    "external_field[40:50,25:35] = 1.5\n",
    "\n",
    "plt.imshow(external_field)\n",
    "plt.colorbar()"
   ]
  },
  {
   "cell_type": "markdown",
   "metadata": {},
   "source": [
    "And now we could run the model"
   ]
  },
  {
   "cell_type": "code",
   "execution_count": 30,
   "metadata": {},
   "outputs": [],
   "source": [
    "state = np.ones_like(state) * -1"
   ]
  },
  {
   "cell_type": "code",
   "execution_count": 31,
   "metadata": {},
   "outputs": [
    {
     "data": {
      "text/plain": [
       "<matplotlib.image.AxesImage at 0x120f08ef0>"
      ]
     },
     "execution_count": 31,
     "metadata": {},
     "output_type": "execute_result"
    },
    {
     "data": {
      "image/png": "[encoded data removed]",
      "text/plain": [
       "<Figure size 432x288 with 1 Axes>"
      ]
     },
     "metadata": {
      "needs_background": "light"
     },
     "output_type": "display_data"
    }
   ],
   "source": [
    "T = 2.27\n",
    "ntrials = 100000\n",
    "for ntrial in range(ntrials):\n",
    "    row, column = randint(width), randint(width)\n",
    "    # flip one at random\n",
    "    # if it's lower in energy, take it. otherwise, reject it.\n",
    "    new_state = state.copy()\n",
    "    new_state[row,column] = -state[row,column]\n",
    "    # THIS IS WHERE WE ADD THE NEW STUFF\n",
    "    energy_change_internal = energy_internal(new_state) - energy_internal(state)\n",
    "    energy_change_external = energy_external(new_state) - energy_external(state)\n",
    "    energy_change = energy_change_internal + energy_change_external\n",
    "    if energy_change < 0: # this asks if the new state is better\n",
    "        state = new_state\n",
    "    else:\n",
    "        if random() < np.exp(-energy_change/T):\n",
    "            state = new_state\n",
    "plt.imshow(state)"
   ]
  },
  {
   "cell_type": "markdown",
   "metadata": {},
   "source": [
    "And you could then ask things like \"what effect does temperature have?\" What sorts of environments lead to infections in the bottom corner? How long do I need to run the model before I get an infection in that corner? etc."
   ]
  },
  {
   "cell_type": "code",
   "execution_count": null,
   "metadata": {},
   "outputs": [],
   "source": []
  }
 ],
 "metadata": {
  "kernelspec": {
   "display_name": "Python 3",
   "language": "python",
   "name": "python3"
  },
  "language_info": {
   "codemirror_mode": {
    "name": "ipython",
    "version": 3
   },
   "file_extension": ".py",
   "mimetype": "text/x-python",
   "name": "python",
   "nbconvert_exporter": "python",
   "pygments_lexer": "ipython3",
   "version": "3.7.1"
  }
 },
 "nbformat": 4,
 "nbformat_minor": 2
}
