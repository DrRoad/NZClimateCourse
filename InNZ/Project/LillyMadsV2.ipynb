{
 "cells": [
  {
   "cell_type": "code",
   "execution_count": 8,
   "metadata": {},
   "outputs": [],
   "source": [
    "import numpy as np, scipy as sp\n",
    "from matplotlib import pyplot as plt\n",
    "from numpy.random import random # import only one function\n",
    "from numpy.random import randint\n",
    "from ipywidgets import interact"
   ]
  },
  {
   "cell_type": "markdown",
   "metadata": {},
   "source": [
    "OK so with this model we are trying to predict future Little Blue Penguin population sizes (N at a given time) based on numerous compounding factors:\n",
    "\n",
    "start population (N) ** I'd call this N0 or something to distinguish it from N **\n",
    "\n",
    "predation"
   ]
  },
  {
   "cell_type": "code",
   "execution_count": 2,
   "metadata": {},
   "outputs": [
    {
     "name": "stdout",
     "output_type": "stream",
     "text": [
      "0.11000000000000001\n",
      "388500.00000000006\n",
      "431235.0000000001\n",
      "478670.85000000015\n",
      "531324.6435000002\n",
      "589770.3542850004\n",
      "654645.0932563505\n",
      "726656.0535145492\n",
      "806588.2194011497\n",
      "895312.9235352762\n",
      "993797.3451241567\n",
      "1103115.053087814\n",
      "1224457.7089274738\n",
      "1359148.056909496\n",
      "1508654.3431695406\n",
      "1674606.3209181903\n",
      "1858813.0162191915\n",
      "2063282.4480033028\n",
      "2290243.5172836664\n",
      "2542170.30418487\n",
      "2821809.037645206\n"
     ]
    },
    {
     "data": {
      "text/plain": [
       "[<matplotlib.lines.Line2D at 0x11e45d6a0>]"
      ]
     },
     "execution_count": 2,
     "metadata": {},
     "output_type": "execute_result"
    },
    {
     "data": {
      "image/png": "[encoded data removed]",
      "text/plain": [
       "<Figure size 432x288 with 1 Axes>"
      ]
     },
     "metadata": {
      "needs_background": "light"
     },
     "output_type": "display_data"
    }
   ],
   "source": [
    "N = 350000\n",
    "rdkl = 0.03 # percentage\n",
    "pred = 0.06\n",
    "em = 0\n",
    "deaths = rdkl + pred\n",
    "births = 0.2 # percentage\n",
    "r = (births - deaths)\n",
    "print(r)\n",
    "years = 20\n",
    "poprate = []\n",
    "K = 1000000\n",
    "# but K depends on other things too ..\n",
    "for year in range(years):\n",
    "    #N = N - deaths*N + births*N\n",
    "    N = N*(1+r)\n",
    "    print(N)\n",
    "    poprate.append(N)\n",
    "    if N > K:\n",
    "        births = 0.05\n",
    "        pred=0.1\n",
    "        rdkl = 0.1\n",
    "plt.plot(poprate)"
   ]
  },
  {
   "cell_type": "markdown",
   "metadata": {},
   "source": [
    "So, if you want to interact with something, you need that something to be a function. Let's make your above code a function.\n",
    "\n",
    "You also need to make sure everything is updated in the function (I moved `r` around), and that everything you care about comes as input parameters."
   ]
  },
  {
   "cell_type": "code",
   "execution_count": 15,
   "metadata": {},
   "outputs": [],
   "source": [
    "def showgrowth(N = 350000,\n",
    "               rdkl = 0.03, # percentage\n",
    "               pred = 0.06,\n",
    "               em = 0,\n",
    "               births = 0.2, # percentage\n",
    "               years = 20,\n",
    "               K = 1000000\n",
    "):\n",
    "    poprate = []\n",
    "    for year in range(years):\n",
    "        #N = N - deaths*N + births*N\n",
    "        r = (births - deaths)\n",
    "        N = N*(1+r)\n",
    "        #print(N)\n",
    "        poprate.append(N)\n",
    "        if N > K:\n",
    "            births = 0.05\n",
    "            pred=0.1\n",
    "            rdkl = 0.1\n",
    "        else:\n",
    "            # You probably want to set births, pred and rdkl back to their initial values if N drops\n",
    "            # back below K\n",
    "            pass\n",
    "        # You \n",
    "    plt.plot(poprate)    "
   ]
  },
  {
   "cell_type": "code",
   "execution_count": 13,
   "metadata": {},
   "outputs": [
    {
     "data": {
      "image/png": "[encoded data removed]",
      "text/plain": [
       "<Figure size 432x288 with 1 Axes>"
      ]
     },
     "metadata": {
      "needs_background": "light"
     },
     "output_type": "display_data"
    }
   ],
   "source": [
    "showgrowth()"
   ]
  },
  {
   "cell_type": "code",
   "execution_count": 14,
   "metadata": {},
   "outputs": [
    {
     "data": {
      "application/vnd.jupyter.widget-view+json": {
       "model_id": "05bc9ddf98064d8a97f49f1c5245e8db",
       "version_major": 2,
       "version_minor": 0
      },
      "text/plain": [
       "interactive(children=(IntSlider(value=350000, description='N', max=1050000, min=-350000), FloatSlider(value=0.…"
      ]
     },
     "metadata": {},
     "output_type": "display_data"
    },
    {
     "data": {
      "text/plain": [
       "<function __main__.showgrowth(N=350000, rdkl=0.03, pred=0.06, em=0, births=0.2, years=20, K=1000000)>"
      ]
     },
     "execution_count": 14,
     "metadata": {},
     "output_type": "execute_result"
    }
   ],
   "source": [
    "interact(showgrowth)"
   ]
  },
  {
   "cell_type": "code",
   "execution_count": null,
   "metadata": {},
   "outputs": [],
   "source": []
  }
 ],
 "metadata": {
  "kernelspec": {
   "display_name": "Python 3",
   "language": "python",
   "name": "python3"
  },
  "language_info": {
   "codemirror_mode": {
    "name": "ipython",
    "version": 3
   },
   "file_extension": ".py",
   "mimetype": "text/x-python",
   "name": "python",
   "nbconvert_exporter": "python",
   "pygments_lexer": "ipython3",
   "version": "3.7.1"
  }
 },
 "nbformat": 4,
 "nbformat_minor": 2
}
