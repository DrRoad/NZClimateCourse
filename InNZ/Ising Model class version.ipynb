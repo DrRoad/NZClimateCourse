{
 "cells": [
  {
   "cell_type": "code",
   "execution_count": 1,
   "metadata": {},
   "outputs": [],
   "source": [
    "import numpy as np, scipy as sp\n",
    "from matplotlib import pyplot as plt\n",
    "from numpy.random import random # import only one function\n",
    "from numpy.random import randint"
   ]
  },
  {
   "cell_type": "code",
   "execution_count": 2,
   "metadata": {},
   "outputs": [],
   "source": [
    "width = 3\n",
    "state = random(size=(width,width))"
   ]
  },
  {
   "cell_type": "code",
   "execution_count": 3,
   "metadata": {},
   "outputs": [
    {
     "data": {
      "text/plain": [
       "array([[0.24648743, 0.8931537 , 0.58881161],\n",
       "       [0.00361218, 0.94929945, 0.321378  ],\n",
       "       [0.44948146, 0.60882675, 0.98261167]])"
      ]
     },
     "execution_count": 3,
     "metadata": {},
     "output_type": "execute_result"
    }
   ],
   "source": [
    "state"
   ]
  },
  {
   "cell_type": "code",
   "execution_count": 4,
   "metadata": {},
   "outputs": [
    {
     "data": {
      "text/plain": [
       "<matplotlib.image.AxesImage at 0x11427b7b8>"
      ]
     },
     "execution_count": 4,
     "metadata": {},
     "output_type": "execute_result"
    },
    {
     "data": {
      "image/png": "[encoded data removed]",
      "text/plain": [
       "<Figure size 432x288 with 1 Axes>"
      ]
     },
     "metadata": {
      "needs_background": "light"
     },
     "output_type": "display_data"
    }
   ],
   "source": [
    "plt.imshow(state)"
   ]
  },
  {
   "cell_type": "code",
   "execution_count": 5,
   "metadata": {},
   "outputs": [],
   "source": [
    "state[state<=0.5] = -1"
   ]
  },
  {
   "cell_type": "code",
   "execution_count": 6,
   "metadata": {},
   "outputs": [
    {
     "data": {
      "text/plain": [
       "array([[-1.        ,  0.8931537 ,  0.58881161],\n",
       "       [-1.        ,  0.94929945, -1.        ],\n",
       "       [-1.        ,  0.60882675,  0.98261167]])"
      ]
     },
     "execution_count": 6,
     "metadata": {},
     "output_type": "execute_result"
    }
   ],
   "source": [
    "state"
   ]
  },
  {
   "cell_type": "code",
   "execution_count": 7,
   "metadata": {},
   "outputs": [],
   "source": [
    "state[state>0.5] = 1"
   ]
  },
  {
   "cell_type": "code",
   "execution_count": 8,
   "metadata": {},
   "outputs": [
    {
     "data": {
      "text/plain": [
       "array([[-1.,  1.,  1.],\n",
       "       [-1.,  1., -1.],\n",
       "       [-1.,  1.,  1.]])"
      ]
     },
     "execution_count": 8,
     "metadata": {},
     "output_type": "execute_result"
    }
   ],
   "source": [
    "state"
   ]
  },
  {
   "cell_type": "code",
   "execution_count": 9,
   "metadata": {},
   "outputs": [
    {
     "data": {
      "text/plain": [
       "<matplotlib.colorbar.Colorbar at 0x114439240>"
      ]
     },
     "execution_count": 9,
     "metadata": {},
     "output_type": "execute_result"
    },
    {
     "data": {
      "image/png": "[encoded data removed]",
      "text/plain": [
       "<Figure size 432x288 with 2 Axes>"
      ]
     },
     "metadata": {
      "needs_background": "light"
     },
     "output_type": "display_data"
    }
   ],
   "source": [
    "plt.imshow(state)\n",
    "plt.colorbar()"
   ]
  },
  {
   "cell_type": "code",
   "execution_count": 10,
   "metadata": {},
   "outputs": [
    {
     "data": {
      "text/plain": [
       "array([[-1.,  1.,  1.],\n",
       "       [-1.,  1., -1.],\n",
       "       [-1.,  1.,  1.]])"
      ]
     },
     "execution_count": 10,
     "metadata": {},
     "output_type": "execute_result"
    }
   ],
   "source": [
    "state"
   ]
  },
  {
   "cell_type": "code",
   "execution_count": 15,
   "metadata": {},
   "outputs": [
    {
     "data": {
      "text/plain": [
       "2.0"
      ]
     },
     "execution_count": 15,
     "metadata": {},
     "output_type": "execute_result"
    }
   ],
   "source": [
    "# left ....................right\n",
    "state[1,1] * state[1,0]  + state[1,1] * state[1,2]"
   ]
  },
  {
   "cell_type": "markdown",
   "metadata": {},
   "source": [
    "We want some language to say \"add up the product with all of our neighbors\""
   ]
  },
  {
   "cell_type": "code",
   "execution_count": 11,
   "metadata": {},
   "outputs": [],
   "source": [
    "def energy_internal(state):\n",
    "    # minus sign means like neighbors give a negative number\n",
    "    return -np.sum(\n",
    "        state * np.roll(state, 1, axis=0) + # get all of the neighbors in one direction\n",
    "        state * np.roll(state, 1, axis=1) +\n",
    "        state * np.roll(state, -1, axis=0) +\n",
    "        state * np.roll(state, -1, axis=1)\n",
    "    )/2\n",
    "        \n",
    "    "
   ]
  },
  {
   "cell_type": "code",
   "execution_count": 12,
   "metadata": {},
   "outputs": [
    {
     "data": {
      "text/plain": [
       "-2.0"
      ]
     },
     "execution_count": 12,
     "metadata": {},
     "output_type": "execute_result"
    }
   ],
   "source": [
    "energy_internal(state)"
   ]
  },
  {
   "cell_type": "markdown",
   "metadata": {},
   "source": [
    "At the end of class, I mentioned that the above was going to be slightly wrong for two reasons\n",
    "\n",
    "* It counts everything twice, so we need a factor of two\n",
    "* It needs a negative sign\n",
    "\n",
    "We'll discuss those tomorrow"
   ]
  },
  {
   "cell_type": "code",
   "execution_count": 49,
   "metadata": {},
   "outputs": [
    {
     "data": {
      "text/plain": [
       "<matplotlib.image.AxesImage at 0x116137828>"
      ]
     },
     "execution_count": 49,
     "metadata": {},
     "output_type": "execute_result"
    },
    {
     "data": {
      "image/png": "[encoded data removed]",
      "text/plain": [
       "<Figure size 432x288 with 1 Axes>"
      ]
     },
     "metadata": {
      "needs_background": "light"
     },
     "output_type": "display_data"
    }
   ],
   "source": [
    "width = 100\n",
    "state = random(size=(width,width))\n",
    "state[state<=0.5] = -1\n",
    "state[state>0.5] = 1\n",
    "plt.imshow(state)"
   ]
  },
  {
   "cell_type": "markdown",
   "metadata": {},
   "source": [
    "## How do we use the Ising model\n",
    "\n",
    "1. Pick a random row and column\n",
    "2. Flip that one. If it was -1, make it +1. If it was +1, make it -1.\n",
    "3. Do we want to take that coin flip? Well, if it's lower in energy, yes. If it's higher in energy, no.\n",
    "\n",
    "Fancier version, called Metropolis Monte Carlo\n",
    "\n",
    "1. Pick a random row and column\n",
    "2. Flip that one. If it was -1, make it +1. If it was +1, make it -1.\n",
    "3. Do we want to take that coin flip? \n",
    "   1. If it's lower energy, yes.\n",
    "   2. If it's higher energy, do something based on temperature.\\"
   ]
  },
  {
   "cell_type": "code",
   "execution_count": 63,
   "metadata": {},
   "outputs": [
    {
     "data": {
      "text/plain": [
       "<matplotlib.image.AxesImage at 0x1168fceb8>"
      ]
     },
     "execution_count": 63,
     "metadata": {},
     "output_type": "execute_result"
    },
    {
     "data": {
      "image/png": "[encoded data removed]",
      "text/plain": [
       "<Figure size 432x288 with 1 Axes>"
      ]
     },
     "metadata": {
      "needs_background": "light"
     },
     "output_type": "display_data"
    }
   ],
   "source": [
    "width = 100\n",
    "state = random(size=(width,width))\n",
    "state[state<=0.5] = -1\n",
    "state[state>0.5] = 1\n",
    "plt.imshow(state)"
   ]
  },
  {
   "cell_type": "markdown",
   "metadata": {},
   "source": [
    "## Run it at the temperature where we start to have domains"
   ]
  },
  {
   "cell_type": "code",
   "execution_count": 65,
   "metadata": {},
   "outputs": [
    {
     "data": {
      "text/plain": [
       "<matplotlib.image.AxesImage at 0x1169ac2e8>"
      ]
     },
     "execution_count": 65,
     "metadata": {},
     "output_type": "execute_result"
    },
    {
     "data": {
      "image/png": "[encoded data removed]",
      "text/plain": [
       "<Figure size 432x288 with 1 Axes>"
      ]
     },
     "metadata": {
      "needs_background": "light"
     },
     "output_type": "display_data"
    }
   ],
   "source": [
    "ntrials = 20000\n",
    "T = 2.27\n",
    "for ntrial in range(ntrials):\n",
    "    row, column = randint(width), randint(width)\n",
    "    # flip one at random\n",
    "    # if it's lower in energy, take it. otherwise, reject it.\n",
    "    new_state = state.copy()\n",
    "    new_state[row,column] = -state[row,column]\n",
    "    energy_change = energy_internal(new_state) - energy_internal(state)\n",
    "    if energy_change < 0: # this asks if the new state is better\n",
    "        state = new_state\n",
    "    else:\n",
    "        if random() < np.exp(-energy_change/T):\n",
    "            state = new_state\n",
    "plt.imshow(state)"
   ]
  },
  {
   "cell_type": "markdown",
   "metadata": {},
   "source": [
    "## Heat it up, should see the domains \"melt\""
   ]
  },
  {
   "cell_type": "code",
   "execution_count": 66,
   "metadata": {},
   "outputs": [
    {
     "data": {
      "text/plain": [
       "<matplotlib.image.AxesImage at 0x116a95588>"
      ]
     },
     "execution_count": 66,
     "metadata": {},
     "output_type": "execute_result"
    },
    {
     "data": {
      "image/png": "[encoded data removed]",
      "text/plain": [
       "<Figure size 432x288 with 1 Axes>"
      ]
     },
     "metadata": {
      "needs_background": "light"
     },
     "output_type": "display_data"
    }
   ],
   "source": [
    "ntrials = 20000\n",
    "T = 4.0\n",
    "for ntrial in range(ntrials):\n",
    "    row, column = randint(width), randint(width)\n",
    "    # flip one at random\n",
    "    # if it's lower in energy, take it. otherwise, reject it.\n",
    "    new_state = state.copy()\n",
    "    new_state[row,column] = -state[row,column]\n",
    "    energy_change = energy_internal(new_state) - energy_internal(state)\n",
    "    if energy_change < 0: # this asks if the new state is better\n",
    "        state = new_state\n",
    "    else:\n",
    "        if random() < np.exp(-energy_change/T):\n",
    "            state = new_state\n",
    "plt.imshow(state)"
   ]
  },
  {
   "cell_type": "markdown",
   "metadata": {},
   "source": [
    "## Cool it down, should see it freeze"
   ]
  },
  {
   "cell_type": "code",
   "execution_count": 67,
   "metadata": {},
   "outputs": [
    {
     "data": {
      "text/plain": [
       "<matplotlib.image.AxesImage at 0x1152321d0>"
      ]
     },
     "execution_count": 67,
     "metadata": {},
     "output_type": "execute_result"
    },
    {
     "data": {
      "image/png": "[encoded data removed]",
      "text/plain": [
       "<Figure size 432x288 with 1 Axes>"
      ]
     },
     "metadata": {
      "needs_background": "light"
     },
     "output_type": "display_data"
    }
   ],
   "source": [
    "ntrials = 20000\n",
    "T = 1.0\n",
    "for ntrial in range(ntrials):\n",
    "    row, column = randint(width), randint(width)\n",
    "    # flip one at random\n",
    "    # if it's lower in energy, take it. otherwise, reject it.\n",
    "    new_state = state.copy()\n",
    "    new_state[row,column] = -state[row,column]\n",
    "    energy_change = energy_internal(new_state) - energy_internal(state)\n",
    "    if energy_change < 0: # this asks if the new state is better\n",
    "        state = new_state\n",
    "    else:\n",
    "        if random() < np.exp(-energy_change/T):\n",
    "            state = new_state\n",
    "plt.imshow(state)"
   ]
  },
  {
   "cell_type": "code",
   "execution_count": null,
   "metadata": {},
   "outputs": [],
   "source": []
  }
 ],
 "metadata": {
  "kernelspec": {
   "display_name": "Python 3",
   "language": "python",
   "name": "python3"
  },
  "language_info": {
   "codemirror_mode": {
    "name": "ipython",
    "version": 3
   },
   "file_extension": ".py",
   "mimetype": "text/x-python",
   "name": "python",
   "nbconvert_exporter": "python",
   "pygments_lexer": "ipython3",
   "version": "3.7.1"
  }
 },
 "nbformat": 4,
 "nbformat_minor": 2
}
