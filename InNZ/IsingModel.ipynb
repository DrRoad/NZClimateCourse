{
 "cells": [
  {
   "cell_type": "code",
   "execution_count": 2,
   "metadata": {},
   "outputs": [],
   "source": [
    "import numpy as np, pandas as pd, scipy as sp\n",
    "from matplotlib import pyplot as plt\n",
    "from numpy.random import random, randint\n",
    "from numpy.random import randint\n",
    "import matplotlib.cm as cm\n",
    "from ipywidgets import interact"
   ]
  },
  {
   "cell_type": "code",
   "execution_count": 3,
   "metadata": {},
   "outputs": [],
   "source": [
    "size = 3\n",
    "T = 2.5"
   ]
  },
  {
   "cell_type": "code",
   "execution_count": 4,
   "metadata": {},
   "outputs": [],
   "source": [
    "state = random([size,size])"
   ]
  },
  {
   "cell_type": "code",
   "execution_count": 5,
   "metadata": {},
   "outputs": [
    {
     "data": {
      "text/plain": [
       "array([[0.60480801, 0.36398429, 0.42468015],\n",
       "       [0.29290335, 0.57235304, 0.34047963],\n",
       "       [0.49784343, 0.4643885 , 0.9405428 ]])"
      ]
     },
     "execution_count": 5,
     "metadata": {},
     "output_type": "execute_result"
    }
   ],
   "source": [
    "state"
   ]
  },
  {
   "cell_type": "code",
   "execution_count": 6,
   "metadata": {},
   "outputs": [
    {
     "name": "stdout",
     "output_type": "stream",
     "text": [
      "[[ 1. -1. -1.]\n",
      " [-1.  1. -1.]\n",
      " [-1. -1.  1.]]\n"
     ]
    }
   ],
   "source": [
    "state[state<=0.5] = -1\n",
    "state[state>0.5] = 1\n",
    "print (state)"
   ]
  },
  {
   "cell_type": "code",
   "execution_count": 7,
   "metadata": {},
   "outputs": [
    {
     "data": {
      "text/plain": [
       "<matplotlib.image.AxesImage at 0x1234442e8>"
      ]
     },
     "execution_count": 7,
     "metadata": {},
     "output_type": "execute_result"
    },
    {
     "data": {
      "image/png": "[encoded data removed]",
      "text/plain": [
       "<Figure size 432x288 with 1 Axes>"
      ]
     },
     "metadata": {
      "needs_background": "light"
     },
     "output_type": "display_data"
    }
   ],
   "source": [
    "plt.imshow(state)"
   ]
  },
  {
   "cell_type": "code",
   "execution_count": 8,
   "metadata": {},
   "outputs": [
    {
     "data": {
      "text/plain": [
       "<matplotlib.image.AxesImage at 0x12373a908>"
      ]
     },
     "execution_count": 8,
     "metadata": {},
     "output_type": "execute_result"
    },
    {
     "data": {
      "image/png": "[encoded data removed]",
      "text/plain": [
       "<Figure size 432x288 with 1 Axes>"
      ]
     },
     "metadata": {
      "needs_background": "light"
     },
     "output_type": "display_data"
    }
   ],
   "source": [
    "plt.imshow(state,cmap=cm.Greys_r)"
   ]
  },
  {
   "cell_type": "code",
   "execution_count": 9,
   "metadata": {},
   "outputs": [],
   "source": [
    "def energy_one(s,i,j):\n",
    "    from numpy import mod\n",
    "    above = s[mod(i+1,size),j]\n",
    "    below = s[mod(i-1,size),j]\n",
    "    right = s[i,mod(j+1,size)]\n",
    "    left =  s[i,mod(j-1,size)]\n",
    "    #print(above,below,left,right)\n",
    "    return -s[i,j]*(above+below+left+right)"
   ]
  },
  {
   "cell_type": "code",
   "execution_count": 10,
   "metadata": {},
   "outputs": [
    {
     "name": "stdout",
     "output_type": "stream",
     "text": [
      "0.0\n"
     ]
    }
   ],
   "source": [
    "print (energy_one(state,1,0))"
   ]
  },
  {
   "cell_type": "code",
   "execution_count": 11,
   "metadata": {},
   "outputs": [],
   "source": [
    "def energy(state):\n",
    "    total = 0\n",
    "    for i in range(size):\n",
    "        for j in range(size):\n",
    "            total = total + energy_one(state,i,j)\n",
    "    return total"
   ]
  },
  {
   "cell_type": "markdown",
   "metadata": {},
   "source": [
    "What's next?\n",
    "0. Pick a random state (done)\n",
    "1. Consider a move:\n",
    "    1. Flip one to the other sign\n",
    "    2. If $\\Delta U <= 0$, accept\n",
    "    3. If $\\Delta U > 0$, accept with boltzman probability"
   ]
  },
  {
   "cell_type": "markdown",
   "metadata": {},
   "source": [
    "And, at this point, we should discuss the pseudocode and you should use [Schroeder's Model on the web](http://physics.weber.edu/schroeder/software/demos/IsingModel.html)"
   ]
  },
  {
   "cell_type": "markdown",
   "metadata": {},
   "source": [
    "But, here's some fancy pants code:"
   ]
  },
  {
   "cell_type": "code",
   "execution_count": 14,
   "metadata": {},
   "outputs": [
    {
     "data": {
      "text/plain": [
       "<matplotlib.image.AxesImage at 0x12390af60>"
      ]
     },
     "execution_count": 14,
     "metadata": {},
     "output_type": "execute_result"
    },
    {
     "data": {
      "image/png": "[encoded data removed]",
      "text/plain": [
       "<Figure size 432x288 with 1 Axes>"
      ]
     },
     "metadata": {
      "needs_background": "light"
     },
     "output_type": "display_data"
    }
   ],
   "source": [
    "size = 100\n",
    "state = random([size,size])\n",
    "state[state<=0.5] = -1\n",
    "state[state>0.5] = 1\n",
    "plt.imshow(state,interpolation='nearest',cmap=cm.Greys_r)"
   ]
  },
  {
   "cell_type": "code",
   "execution_count": 15,
   "metadata": {},
   "outputs": [
    {
     "data": {
      "text/plain": [
       "<matplotlib.image.AxesImage at 0x123a35e48>"
      ]
     },
     "execution_count": 15,
     "metadata": {},
     "output_type": "execute_result"
    },
    {
     "data": {
      "image/png": "[encoded data removed]",
      "text/plain": [
       "<Figure size 432x288 with 1 Axes>"
      ]
     },
     "metadata": {
      "needs_background": "light"
     },
     "output_type": "display_data"
    }
   ],
   "source": [
    "ntrials = 100\n",
    "T = 3\n",
    "for ntrial in range(ntrials):\n",
    "    i,j = randint(size),randint(size)\n",
    "    U = energy(state)\n",
    "    trialstate = state.copy()\n",
    "    trialstate[i,j] = trialstate[i,j]*(-1)\n",
    "    trialU = energy(trialstate)\n",
    "    deltaU = trialU-U\n",
    "    if deltaU <= 0:\n",
    "        state = trialstate\n",
    "        #print(\"accept\")\n",
    "    else:\n",
    "        if random() < np.exp(-deltaU/T):\n",
    "            state = trialstate\n",
    "            #print(\"accept\")\n",
    "        else:\n",
    "            state = state\n",
    "            #print(\"reject\")\n",
    "plt.imshow(state,interpolation='nearest',cmap=cm.Greys_r)"
   ]
  },
  {
   "cell_type": "code",
   "execution_count": null,
   "metadata": {},
   "outputs": [],
   "source": []
  },
  {
   "cell_type": "code",
   "execution_count": null,
   "metadata": {},
   "outputs": [],
   "source": []
  }
 ],
 "metadata": {
  "kernelspec": {
   "display_name": "Python 3",
   "language": "python",
   "name": "python3"
  },
  "language_info": {
   "codemirror_mode": {
    "name": "ipython",
    "version": 3
   },
   "file_extension": ".py",
   "mimetype": "text/x-python",
   "name": "python",
   "nbconvert_exporter": "python",
   "pygments_lexer": "ipython3",
   "version": "3.6.8"
  }
 },
 "nbformat": 4,
 "nbformat_minor": 2
}
