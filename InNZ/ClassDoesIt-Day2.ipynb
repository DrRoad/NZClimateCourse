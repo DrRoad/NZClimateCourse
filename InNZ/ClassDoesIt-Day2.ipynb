{
 "cells": [
  {
   "cell_type": "markdown",
   "metadata": {},
   "source": [
    "In class, we built up a \"naked planet\" model of climate change. Today, you'll do that yourself!\n",
    "\n",
    "First, you'll want to refresh yourself with the idea of `for loops`. Make a list of names, like we did last time:\n"
   ]
  },
  {
   "cell_type": "code",
   "execution_count": 9,
   "metadata": {},
   "outputs": [],
   "source": [
    "# First, do this so that we can plot things later. Do it in your own browser.\n",
    "from matplotlib import pyplot as plt"
   ]
  },
  {
   "cell_type": "code",
   "execution_count": 1,
   "metadata": {},
   "outputs": [],
   "source": [
    "names = [\"Jacob\", \"Emma0.5\", \"Emma1.0\", \"Lilly\"]"
   ]
  },
  {
   "cell_type": "markdown",
   "metadata": {},
   "source": [
    "Now, run the following code to print out each name in your own browser"
   ]
  },
  {
   "cell_type": "code",
   "execution_count": 2,
   "metadata": {},
   "outputs": [
    {
     "name": "stdout",
     "output_type": "stream",
     "text": [
      "Jacob\n",
      "Emma0.5\n",
      "Emma1.0\n",
      "Lilly\n"
     ]
    }
   ],
   "source": [
    "for name in names:\n",
    "    print(name)"
   ]
  },
  {
   "cell_type": "markdown",
   "metadata": {},
   "source": [
    "We will most often use this to run our model for a certain number of steps. In your own browser, run a model for 5 steps that prints out \"The model is running\""
   ]
  },
  {
   "cell_type": "code",
   "execution_count": null,
   "metadata": {},
   "outputs": [],
   "source": [
    "nSteps = 5\n",
    "for step in nSteps:\n",
    "    # print out 'the model is running'"
   ]
  },
  {
   "cell_type": "markdown",
   "metadata": {},
   "source": [
    "Now run the model for 10 steps in your own browser."
   ]
  },
  {
   "cell_type": "markdown",
   "metadata": {},
   "source": [
    "Now, write something that starts with an empty list, and adds something to it each time. Maybe the step number? Maybe 2 times the step number? Some number."
   ]
  },
  {
   "cell_type": "code",
   "execution_count": null,
   "metadata": {},
   "outputs": [],
   "source": []
  },
  {
   "cell_type": "markdown",
   "metadata": {},
   "source": [
    "Now plot that by adding\n",
    "\n",
    "`plt.plot(my list)`\n",
    "\n",
    "at the end"
   ]
  },
  {
   "cell_type": "code",
   "execution_count": null,
   "metadata": {},
   "outputs": [],
   "source": []
  },
  {
   "cell_type": "markdown",
   "metadata": {},
   "source": [
    "Let's dive right in.\n",
    "\n",
    "Let's make our first computational model for climate change. We'll make a simplified (but actually reasonable) model. This comes from the Climate Science edX course linked on Moodle. It's the \"Naked Planet.\"\n",
    "\n",
    "Basic idea: heat comes in, heat goes out. We want to look at the overall heat content of the planet.\n",
    "\n",
    "Simple model: the factors that change how much heat comes in and how much heat goes out are unrelated to each other and are unchanging.\n",
    "\n",
    "Heat in:  L * (1-albedo) / 4\n",
    "L = 1350                 # Watts/m2\n",
    "Heat out: epsilon * sigma * T^4 (Stephan-Boltzmann law)\n",
    "epsilon = 1\n",
    "sigma = 5.67E-8          # W/m2 K4\n",
    "\n",
    "Strategy: everything lives in a list, and we add things to the end of the list each time.\n",
    "In this case, we'll calculate heat in, and heat out.\n",
    "We'll use that to calculate heat flux.\n",
    "Each step will be:\n",
    "\n",
    "1. update our heat content based on how much heat flowed in/out last time.\n",
    "2. figure out how much heat flows in\n",
    "3. figure out how much heat flows out\n",
    "4. Keep track of everything (including temperature) in lists\n",
    "\n",
    "Now a note about units.\n",
    "The units you get from physical constants end up in seconds. For this, it's probably easier to think in terms of years, or 100s of years. So, we multiply by $60*60*24*365$ to get it into years sometimes.\n",
    "\n",
    "Last thing about units: what we've done so far will come out in Joules, the unit of energy. We'll need temperature to get the heat_out right. \"Heat Capacity\" is the thing that converts between Joules and Kelvin for some physical object. It turns out that, for the Earth's oceans, a reasonable number is\n",
    "\n",
    "heat_capacity = 16736000000\n",
    "\n",
    "With T * heat_capacity = energy\n",
    "or T = energy / heat_capacity\n",
    "In our case, remember that \"heat content\" is the \"energy\" that we care about.\n",
    "\n",
    "And we'll need to update T in our loop"
   ]
  },
  {
   "cell_type": "code",
   "execution_count": null,
   "metadata": {},
   "outputs": [],
   "source": []
  },
  {
   "cell_type": "code",
   "execution_count": 3,
   "metadata": {},
   "outputs": [],
   "source": [
    "# Here are our physical constants. Copy this into your own code.\n",
    "L = 1350.0 # W/m^2\n",
    "albedo = 0.3\n",
    "epsilon = 1\n",
    "sigma = 5.67e-8 # W/m^2 K^4\n",
    "heat_capacity = 16736000000"
   ]
  },
  {
   "cell_type": "code",
   "execution_count": 4,
   "metadata": {},
   "outputs": [],
   "source": [
    "# Here are the lists we'll use. Copy this into your own code.\n",
    "time = []\n",
    "T = []\n",
    "heat_content = []\n",
    "heat_in = []\n",
    "heat_out = []\n",
    "heat_flux = []"
   ]
  },
  {
   "cell_type": "code",
   "execution_count": null,
   "metadata": {},
   "outputs": [],
   "source": [
    "# Now, set up our planet at 'year zero' .. copy this into your own code and fix the broken lines!\n",
    "time = time + [0]\n",
    "T = T + [0]\n",
    "heat_content = heat_content + [0]\n",
    "\n",
    "# You need to fill this one out. Remember, heat in is L * (1 - albedo)/4\n",
    "heat_in = heat_in + [] #what goes here?\n",
    "\n",
    "# You need to fill this one out as well. \n",
    "# Remember, heat_out = epsilon * sigma * T**4\n",
    "# But what will you use for Temperature? T is a list, and you need one value out of the list ...\n",
    "heat_out = heat_out + []\n",
    "\n",
    "# I'll give you this one. The heat flux is just heat_in - heat_out\n",
    "# with a conversion factor to go from seconds to years.\n",
    "heat_flux.append((heat_in[-1]-heat_out[-1])*60*60*24*365)"
   ]
  },
  {
   "cell_type": "markdown",
   "metadata": {},
   "source": [
    "Now that you've set that up, you're ready to run your model!\n",
    "Since you've already figured out how to the model works, this is essentially just copying and paste!\n"
   ]
  },
  {
   "cell_type": "code",
   "execution_count": null,
   "metadata": {},
   "outputs": [],
   "source": [
    "nYears = 5\n",
    "for i in range(nYears):\n",
    "    # Update heat content of planet based on how much heat\n",
    "    # flowed in/out last year\n",
    "    heat_content = heat_content + [heat_content[-1] + heat_flux[-1]]\n",
    "    # Figure out how much heat flows in this year\n",
    "    heat_in = heat_in + [] # Fix this the same way you did last time!\n",
    "    \n",
    "    # Figure out how much heat flows out this year\n",
    "    heat_out= heat_out + [] # Fix this the same way you did last time!\n",
    "    \n",
    "    # Again, I'll give you this one\n",
    "    heat_flux = heat_flux + [(heat_in[-1] - heat_out[-1])*60*60*24*365]\n",
    "    \n",
    "    # Add tempterature to the list. You'll need to remember\n",
    "    # to convert between heat content and temperature\n",
    "    T = T + [] # Fix this line\n",
    "    \n",
    "    # Keep track of everything in lists. I'll give you this one\n",
    "    time = time + [last_year + 1]\n",
    "plt.plot(T)"
   ]
  },
  {
   "cell_type": "markdown",
   "metadata": {},
   "source": [
    "Once you have that all working, show me!"
   ]
  },
  {
   "cell_type": "markdown",
   "metadata": {},
   "source": [
    "Now play around with it!\n",
    "\n",
    "What happens when you run it for longer? \n",
    "\n",
    "How long do you need to run it before it 'converges'?\n",
    "\n",
    "What happens if you change the albedo?\n",
    "\n",
    "What if you change the heat capacity?"
   ]
  },
  {
   "cell_type": "code",
   "execution_count": null,
   "metadata": {},
   "outputs": [],
   "source": []
  }
 ],
 "metadata": {
  "kernelspec": {
   "display_name": "Python 3",
   "language": "python",
   "name": "python3"
  },
  "language_info": {
   "codemirror_mode": {
    "name": "ipython",
    "version": 3
   },
   "file_extension": ".py",
   "mimetype": "text/x-python",
   "name": "python",
   "nbconvert_exporter": "python",
   "pygments_lexer": "ipython3",
   "version": "3.6.8"
  }
 },
 "nbformat": 4,
 "nbformat_minor": 2
}
