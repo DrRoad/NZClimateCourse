{
 "cells": [
  {
   "cell_type": "markdown",
   "metadata": {},
   "source": [
    "Now, discuss numerical models. Take some system, move it forward, re-calculate. Rinse, repeat."
   ]
  },
  {
   "cell_type": "code",
   "execution_count": null,
   "metadata": {},
   "outputs": [],
   "source": [
    "for i in (1,5,2,7,12):\n",
    "    print(i,i*2,i**2)"
   ]
  },
  {
   "cell_type": "code",
   "execution_count": null,
   "metadata": {},
   "outputs": [],
   "source": [
    "range(10)"
   ]
  },
  {
   "cell_type": "code",
   "execution_count": null,
   "metadata": {},
   "outputs": [],
   "source": [
    "for i in range(10):\n",
    "    print(i)"
   ]
  },
  {
   "cell_type": "code",
   "execution_count": 19,
   "metadata": {},
   "outputs": [],
   "source": [
    "# Typical numerical loop:\n",
    "\n",
    "# Set up initial conditions\n",
    "nSteps = 5\n",
    "for i in range(nSteps):\n",
    "    # Update model. Probably actually ignore i.\n",
    "    pass"
   ]
  },
  {
   "cell_type": "markdown",
   "metadata": {},
   "source": [
    "Let's make our first computational model for climate change. We'll make a simplified (but actually reasonable) model. This comes from the Climate Science edX course linked on Moodle. It's the \"Naked Planet.\"\n",
    "\n",
    "Basic idea: heat comes in, heat goes out. We want to look at the overall heat content of the planet.\n",
    "\n",
    "Simple model: the factors that change how much heat comes in and how much heat goes out are unrelated to each other and are unchanging.\n",
    "\n",
    "Heat in:  L * (1-albedo) / 4\n",
    "L = 1350                 # Watts/m2\n",
    "Heat out: epsilon * sigma * T^4 (Stephan-Boltzmann law)\n",
    "epsilon = 1\n",
    "sigma = 5.67E-8          # W/m2 K4\n",
    "\n",
    "Strategy: everything lives in a list, and we add things to the end of the list each time.\n",
    "In this case, we'll calculate heat in, and heat out.\n",
    "We'll use that to calculate heat flux.\n",
    "Each step will be:\n",
    "\n",
    "1. update our heat content based on how much heat flowed in/out last time.\n",
    "2. figure out how much heat flows in\n",
    "3. figure out how much heat flows out\n",
    "\n",
    "Now a note about units.\n",
    "The units you get from physical constants end up in seconds. For this, it's probably easier to think in terms of years, or 100s of years. So, let's multipy the heat flux by $60*60*24*365$ to get it into years.\n",
    "\n",
    "We can then have a `timestep` that lets us go every year, 10 years, 100 years, etc.\n",
    "\n",
    "Last thing about units: what we've done so far will come out in Joules, the unit of energy. We'll need temperature to get the heat_out right. \"Heat Capacity\" is the thing that converts between Joules and Kelvin for some physical object. It turns out that, for the Earth's oceans, a reasonable number is\n",
    "\n",
    "heat_capacity = 16736000000\n",
    "\n",
    "With T * heat_capacity = energy\n",
    "or T = energy / heat_capacity\n",
    "\n",
    "And we'll need to update T in our loop"
   ]
  },
  {
   "cell_type": "code",
   "execution_count": 8,
   "metadata": {},
   "outputs": [],
   "source": []
  },
  {
   "cell_type": "code",
   "execution_count": 14,
   "metadata": {},
   "outputs": [
    {
     "name": "stdout",
     "output_type": "stream",
     "text": [
      "[0, 44.517088910133836, 89.03417782026767, 133.50930580800963, 177.3550199598733, 218.47754370885372, 252.42373319790372, 272.5983199825788, 273.73848601679646, 259.25847030274446, 243.78520276382181]\n"
     ]
    }
   ],
   "source": [
    "timestep = 100.0 # years\n",
    "water_depth = 4000.0 # m\n",
    "L = 1350.0 # W/m^2\n",
    "albedo = 0.3\n",
    "epsilon = 1\n",
    "sigma = 5.67e-8 # W/m^2 K^4\n",
    "heat_capacity = 16736000000\n",
    "\n",
    "time, T, heat_content, heat_in, heat_out, heat_flux = [], [], [], [], [], []\n",
    "\n",
    "time.append(0)\n",
    "T.append(0)\n",
    "heat_content.append(0)\n",
    "heat_in.append(L*(1-albedo)/4)\n",
    "heat_out.append(epsilon*sigma*T[-1]**4)\n",
    "\n",
    "heat_flux.append((heat_in[-1]-heat_out[-1])*60*60*24*365)\n",
    "\n",
    "nSteps = 10\n",
    "timestep = 100 # years\n",
    "for i in range(nSteps):\n",
    "    time.append(time[-1] + timestep)\n",
    "\n",
    "    heat_content.append(heat_content[-1] + heat_flux[-1]*timestep)\n",
    "    T.append(heat_content[-1]/heat_capacity)\n",
    "\n",
    "    heat_in.append(L*(1-albedo)/4)\n",
    "    heat_flux.append((heat_in[-1]-heat_out[-1])*60*60*24*365)\n",
    "    heat_out.append(epsilon*sigma*T[-1]**4)\n",
    "print(T)"
   ]
  },
  {
   "cell_type": "code",
   "execution_count": 15,
   "metadata": {},
   "outputs": [],
   "source": [
    "from matplotlib import pyplot as plt"
   ]
  },
  {
   "cell_type": "code",
   "execution_count": 17,
   "metadata": {},
   "outputs": [
    {
     "data": {
      "text/plain": [
       "[<matplotlib.lines.Line2D at 0x1128abac8>]"
      ]
     },
     "execution_count": 17,
     "metadata": {},
     "output_type": "execute_result"
    },
    {
     "data": {
      "image/png": "[encoded data removed]",
      "text/plain": [
       "<Figure size 432x288 with 1 Axes>"
      ]
     },
     "metadata": {
      "needs_background": "light"
     },
     "output_type": "display_data"
    }
   ],
   "source": [
    "plt.plot(time,T)"
   ]
  },
  {
   "cell_type": "code",
   "execution_count": null,
   "metadata": {},
   "outputs": [],
   "source": []
  }
 ],
 "metadata": {
  "kernelspec": {
   "display_name": "Python 3",
   "language": "python",
   "name": "python3"
  },
  "language_info": {
   "codemirror_mode": {
    "name": "ipython",
    "version": 3
   },
   "file_extension": ".py",
   "mimetype": "text/x-python",
   "name": "python",
   "nbconvert_exporter": "python",
   "pygments_lexer": "ipython3",
   "version": "3.6.7"
  }
 },
 "nbformat": 4,
 "nbformat_minor": 2
}
